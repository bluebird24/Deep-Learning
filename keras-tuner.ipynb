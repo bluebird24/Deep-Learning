{
 "cells": [
  {
   "cell_type": "code",
   "execution_count": 1,
   "id": "3a739ea0",
   "metadata": {
    "_cell_guid": "b1076dfc-b9ad-4769-8c92-a6c4dae69d19",
    "_uuid": "8f2839f25d086af736a60e9eeb907d3b93b6e0e5",
    "execution": {
     "iopub.execute_input": "2023-02-24T12:50:02.623045Z",
     "iopub.status.busy": "2023-02-24T12:50:02.622550Z",
     "iopub.status.idle": "2023-02-24T12:50:02.643823Z",
     "shell.execute_reply": "2023-02-24T12:50:02.642459Z"
    },
    "papermill": {
     "duration": 0.037263,
     "end_time": "2023-02-24T12:50:02.646856",
     "exception": false,
     "start_time": "2023-02-24T12:50:02.609593",
     "status": "completed"
    },
    "tags": []
   },
   "outputs": [
    {
     "name": "stdout",
     "output_type": "stream",
     "text": [
      "/kaggle/input/pima-indians-diabetes-database/diabetes.csv\n"
     ]
    }
   ],
   "source": [
    "# This Python 3 environment comes with many helpful analytics libraries installed\n",
    "# It is defined by the kaggle/python Docker image: https://github.com/kaggle/docker-python\n",
    "# For example, here's several helpful packages to load\n",
    "\n",
    "import numpy as np # linear algebra\n",
    "import pandas as pd # data processing, CSV file I/O (e.g. pd.read_csv)\n",
    "\n",
    "# Input data files are available in the read-only \"../input/\" directory\n",
    "# For example, running this (by clicking run or pressing Shift+Enter) will list all files under the input directory\n",
    "\n",
    "import os\n",
    "for dirname, _, filenames in os.walk('/kaggle/input'):\n",
    "    for filename in filenames:\n",
    "        print(os.path.join(dirname, filename))\n",
    "\n",
    "# You can write up to 20GB to the current directory (/kaggle/working/) that gets preserved as output when you create a version using \"Save & Run All\" \n",
    "# You can also write temporary files to /kaggle/temp/, but they won't be saved outside of the current session"
   ]
  },
  {
   "cell_type": "code",
   "execution_count": 2,
   "id": "d3b43b53",
   "metadata": {
    "execution": {
     "iopub.execute_input": "2023-02-24T12:50:02.668814Z",
     "iopub.status.busy": "2023-02-24T12:50:02.668426Z",
     "iopub.status.idle": "2023-02-24T12:50:02.704705Z",
     "shell.execute_reply": "2023-02-24T12:50:02.703462Z"
    },
    "papermill": {
     "duration": 0.050463,
     "end_time": "2023-02-24T12:50:02.707638",
     "exception": false,
     "start_time": "2023-02-24T12:50:02.657175",
     "status": "completed"
    },
    "tags": []
   },
   "outputs": [
    {
     "data": {
      "text/html": [
       "<div>\n",
       "<style scoped>\n",
       "    .dataframe tbody tr th:only-of-type {\n",
       "        vertical-align: middle;\n",
       "    }\n",
       "\n",
       "    .dataframe tbody tr th {\n",
       "        vertical-align: top;\n",
       "    }\n",
       "\n",
       "    .dataframe thead th {\n",
       "        text-align: right;\n",
       "    }\n",
       "</style>\n",
       "<table border=\"1\" class=\"dataframe\">\n",
       "  <thead>\n",
       "    <tr style=\"text-align: right;\">\n",
       "      <th></th>\n",
       "      <th>Pregnancies</th>\n",
       "      <th>Glucose</th>\n",
       "      <th>BloodPressure</th>\n",
       "      <th>SkinThickness</th>\n",
       "      <th>Insulin</th>\n",
       "      <th>BMI</th>\n",
       "      <th>DiabetesPedigreeFunction</th>\n",
       "      <th>Age</th>\n",
       "      <th>Outcome</th>\n",
       "    </tr>\n",
       "  </thead>\n",
       "  <tbody>\n",
       "    <tr>\n",
       "      <th>0</th>\n",
       "      <td>6</td>\n",
       "      <td>148</td>\n",
       "      <td>72</td>\n",
       "      <td>35</td>\n",
       "      <td>0</td>\n",
       "      <td>33.6</td>\n",
       "      <td>0.627</td>\n",
       "      <td>50</td>\n",
       "      <td>1</td>\n",
       "    </tr>\n",
       "    <tr>\n",
       "      <th>1</th>\n",
       "      <td>1</td>\n",
       "      <td>85</td>\n",
       "      <td>66</td>\n",
       "      <td>29</td>\n",
       "      <td>0</td>\n",
       "      <td>26.6</td>\n",
       "      <td>0.351</td>\n",
       "      <td>31</td>\n",
       "      <td>0</td>\n",
       "    </tr>\n",
       "    <tr>\n",
       "      <th>2</th>\n",
       "      <td>8</td>\n",
       "      <td>183</td>\n",
       "      <td>64</td>\n",
       "      <td>0</td>\n",
       "      <td>0</td>\n",
       "      <td>23.3</td>\n",
       "      <td>0.672</td>\n",
       "      <td>32</td>\n",
       "      <td>1</td>\n",
       "    </tr>\n",
       "    <tr>\n",
       "      <th>3</th>\n",
       "      <td>1</td>\n",
       "      <td>89</td>\n",
       "      <td>66</td>\n",
       "      <td>23</td>\n",
       "      <td>94</td>\n",
       "      <td>28.1</td>\n",
       "      <td>0.167</td>\n",
       "      <td>21</td>\n",
       "      <td>0</td>\n",
       "    </tr>\n",
       "    <tr>\n",
       "      <th>4</th>\n",
       "      <td>0</td>\n",
       "      <td>137</td>\n",
       "      <td>40</td>\n",
       "      <td>35</td>\n",
       "      <td>168</td>\n",
       "      <td>43.1</td>\n",
       "      <td>2.288</td>\n",
       "      <td>33</td>\n",
       "      <td>1</td>\n",
       "    </tr>\n",
       "  </tbody>\n",
       "</table>\n",
       "</div>"
      ],
      "text/plain": [
       "   Pregnancies  Glucose  BloodPressure  SkinThickness  Insulin   BMI  \\\n",
       "0            6      148             72             35        0  33.6   \n",
       "1            1       85             66             29        0  26.6   \n",
       "2            8      183             64              0        0  23.3   \n",
       "3            1       89             66             23       94  28.1   \n",
       "4            0      137             40             35      168  43.1   \n",
       "\n",
       "   DiabetesPedigreeFunction  Age  Outcome  \n",
       "0                     0.627   50        1  \n",
       "1                     0.351   31        0  \n",
       "2                     0.672   32        1  \n",
       "3                     0.167   21        0  \n",
       "4                     2.288   33        1  "
      ]
     },
     "execution_count": 2,
     "metadata": {},
     "output_type": "execute_result"
    }
   ],
   "source": [
    "path = '/kaggle/input/pima-indians-diabetes-database/diabetes.csv'\n",
    "df = pd.read_csv(path)\n",
    "\n",
    "df.head()"
   ]
  },
  {
   "cell_type": "code",
   "execution_count": 3,
   "id": "e30bc554",
   "metadata": {
    "execution": {
     "iopub.execute_input": "2023-02-24T12:50:02.729427Z",
     "iopub.status.busy": "2023-02-24T12:50:02.728988Z",
     "iopub.status.idle": "2023-02-24T12:50:02.743960Z",
     "shell.execute_reply": "2023-02-24T12:50:02.743134Z"
    },
    "papermill": {
     "duration": 0.028494,
     "end_time": "2023-02-24T12:50:02.746291",
     "exception": false,
     "start_time": "2023-02-24T12:50:02.717797",
     "status": "completed"
    },
    "tags": []
   },
   "outputs": [
    {
     "data": {
      "text/plain": [
       "Pregnancies                 0.221898\n",
       "Glucose                     0.466581\n",
       "BloodPressure               0.065068\n",
       "SkinThickness               0.074752\n",
       "Insulin                     0.130548\n",
       "BMI                         0.292695\n",
       "DiabetesPedigreeFunction    0.173844\n",
       "Age                         0.238356\n",
       "Outcome                     1.000000\n",
       "Name: Outcome, dtype: float64"
      ]
     },
     "execution_count": 3,
     "metadata": {},
     "output_type": "execute_result"
    }
   ],
   "source": [
    "df.corr()['Outcome']"
   ]
  },
  {
   "cell_type": "code",
   "execution_count": 4,
   "id": "13227447",
   "metadata": {
    "execution": {
     "iopub.execute_input": "2023-02-24T12:50:02.770479Z",
     "iopub.status.busy": "2023-02-24T12:50:02.769769Z",
     "iopub.status.idle": "2023-02-24T12:50:02.776292Z",
     "shell.execute_reply": "2023-02-24T12:50:02.775366Z"
    },
    "papermill": {
     "duration": 0.022208,
     "end_time": "2023-02-24T12:50:02.778619",
     "exception": false,
     "start_time": "2023-02-24T12:50:02.756411",
     "status": "completed"
    },
    "tags": []
   },
   "outputs": [],
   "source": [
    "x = df.iloc[:, :-1].values\n",
    "y = df.iloc[:, -1].values"
   ]
  },
  {
   "cell_type": "code",
   "execution_count": 5,
   "id": "4f9896e3",
   "metadata": {
    "execution": {
     "iopub.execute_input": "2023-02-24T12:50:02.802455Z",
     "iopub.status.busy": "2023-02-24T12:50:02.801677Z",
     "iopub.status.idle": "2023-02-24T12:50:03.921865Z",
     "shell.execute_reply": "2023-02-24T12:50:03.920501Z"
    },
    "papermill": {
     "duration": 1.135239,
     "end_time": "2023-02-24T12:50:03.924984",
     "exception": false,
     "start_time": "2023-02-24T12:50:02.789745",
     "status": "completed"
    },
    "tags": []
   },
   "outputs": [],
   "source": [
    "from sklearn.preprocessing import StandardScaler\n",
    "\n",
    "scaler = StandardScaler()\n",
    "\n",
    "x = scaler.fit_transform(x)"
   ]
  },
  {
   "cell_type": "code",
   "execution_count": 6,
   "id": "e94d14b6",
   "metadata": {
    "execution": {
     "iopub.execute_input": "2023-02-24T12:50:03.947749Z",
     "iopub.status.busy": "2023-02-24T12:50:03.946511Z",
     "iopub.status.idle": "2023-02-24T12:50:03.953992Z",
     "shell.execute_reply": "2023-02-24T12:50:03.953088Z"
    },
    "papermill": {
     "duration": 0.021183,
     "end_time": "2023-02-24T12:50:03.956317",
     "exception": false,
     "start_time": "2023-02-24T12:50:03.935134",
     "status": "completed"
    },
    "tags": []
   },
   "outputs": [
    {
     "data": {
      "text/plain": [
       "(768, 8)"
      ]
     },
     "execution_count": 6,
     "metadata": {},
     "output_type": "execute_result"
    }
   ],
   "source": [
    "x.shape"
   ]
  },
  {
   "cell_type": "code",
   "execution_count": 7,
   "id": "5952f112",
   "metadata": {
    "execution": {
     "iopub.execute_input": "2023-02-24T12:50:03.978909Z",
     "iopub.status.busy": "2023-02-24T12:50:03.978146Z",
     "iopub.status.idle": "2023-02-24T12:50:04.043664Z",
     "shell.execute_reply": "2023-02-24T12:50:04.042462Z"
    },
    "papermill": {
     "duration": 0.080642,
     "end_time": "2023-02-24T12:50:04.047141",
     "exception": false,
     "start_time": "2023-02-24T12:50:03.966499",
     "status": "completed"
    },
    "tags": []
   },
   "outputs": [],
   "source": [
    "from sklearn.model_selection import train_test_split\n",
    "\n",
    "x_train, x_test, y_train, y_test  = train_test_split(x, y, test_size=0.2)"
   ]
  },
  {
   "cell_type": "code",
   "execution_count": 8,
   "id": "f3c0dccd",
   "metadata": {
    "execution": {
     "iopub.execute_input": "2023-02-24T12:50:04.073825Z",
     "iopub.status.busy": "2023-02-24T12:50:04.072607Z",
     "iopub.status.idle": "2023-02-24T12:50:04.082123Z",
     "shell.execute_reply": "2023-02-24T12:50:04.080960Z"
    },
    "papermill": {
     "duration": 0.025101,
     "end_time": "2023-02-24T12:50:04.084773",
     "exception": false,
     "start_time": "2023-02-24T12:50:04.059672",
     "status": "completed"
    },
    "tags": []
   },
   "outputs": [
    {
     "data": {
      "text/plain": [
       "(614, 8)"
      ]
     },
     "execution_count": 8,
     "metadata": {},
     "output_type": "execute_result"
    }
   ],
   "source": [
    "x_train.shape"
   ]
  },
  {
   "cell_type": "code",
   "execution_count": 9,
   "id": "12a129d3",
   "metadata": {
    "execution": {
     "iopub.execute_input": "2023-02-24T12:50:04.107546Z",
     "iopub.status.busy": "2023-02-24T12:50:04.106675Z",
     "iopub.status.idle": "2023-02-24T12:50:10.664668Z",
     "shell.execute_reply": "2023-02-24T12:50:10.663489Z"
    },
    "papermill": {
     "duration": 6.572537,
     "end_time": "2023-02-24T12:50:10.667600",
     "exception": false,
     "start_time": "2023-02-24T12:50:04.095063",
     "status": "completed"
    },
    "tags": []
   },
   "outputs": [],
   "source": [
    "import tensorflow\n",
    "from tensorflow import keras\n",
    "from keras import Sequential\n",
    "from keras.layers import Dense, Dropout\n"
   ]
  },
  {
   "cell_type": "code",
   "execution_count": 10,
   "id": "7d902a5b",
   "metadata": {
    "execution": {
     "iopub.execute_input": "2023-02-24T12:50:10.691932Z",
     "iopub.status.busy": "2023-02-24T12:50:10.691267Z",
     "iopub.status.idle": "2023-02-24T12:50:10.814705Z",
     "shell.execute_reply": "2023-02-24T12:50:10.813782Z"
    },
    "papermill": {
     "duration": 0.138352,
     "end_time": "2023-02-24T12:50:10.817313",
     "exception": false,
     "start_time": "2023-02-24T12:50:10.678961",
     "status": "completed"
    },
    "tags": []
   },
   "outputs": [],
   "source": [
    "# Basic initial model\n",
    "model = Sequential()\n",
    "\n",
    "model.add(Dense(32, activation='relu', input_dim=8))\n",
    "model.add(Dense(1, activation='sigmoid'))\n",
    "\n",
    "model.compile(optimizer='Adam', loss='binary_crossentropy', metrics=['accuracy'])"
   ]
  },
  {
   "cell_type": "code",
   "execution_count": 11,
   "id": "d75da96d",
   "metadata": {
    "execution": {
     "iopub.execute_input": "2023-02-24T12:50:10.840383Z",
     "iopub.status.busy": "2023-02-24T12:50:10.839640Z",
     "iopub.status.idle": "2023-02-24T12:50:19.852733Z",
     "shell.execute_reply": "2023-02-24T12:50:19.851230Z"
    },
    "papermill": {
     "duration": 9.027949,
     "end_time": "2023-02-24T12:50:19.855551",
     "exception": false,
     "start_time": "2023-02-24T12:50:10.827602",
     "status": "completed"
    },
    "tags": []
   },
   "outputs": [
    {
     "name": "stdout",
     "output_type": "stream",
     "text": [
      "Epoch 1/100\n",
      "20/20 [==============================] - 1s 14ms/step - loss: 0.6410 - accuracy: 0.6726 - val_loss: 0.6121 - val_accuracy: 0.6818\n",
      "Epoch 2/100\n",
      "20/20 [==============================] - 0s 4ms/step - loss: 0.5821 - accuracy: 0.7345 - val_loss: 0.5765 - val_accuracy: 0.7208\n",
      "Epoch 3/100\n",
      "20/20 [==============================] - 0s 4ms/step - loss: 0.5463 - accuracy: 0.7524 - val_loss: 0.5547 - val_accuracy: 0.7403\n",
      "Epoch 4/100\n",
      "20/20 [==============================] - 0s 3ms/step - loss: 0.5245 - accuracy: 0.7557 - val_loss: 0.5411 - val_accuracy: 0.7532\n",
      "Epoch 5/100\n",
      "20/20 [==============================] - 0s 3ms/step - loss: 0.5095 - accuracy: 0.7590 - val_loss: 0.5302 - val_accuracy: 0.7532\n",
      "Epoch 6/100\n",
      "20/20 [==============================] - 0s 4ms/step - loss: 0.4984 - accuracy: 0.7622 - val_loss: 0.5220 - val_accuracy: 0.7532\n",
      "Epoch 7/100\n",
      "20/20 [==============================] - 0s 4ms/step - loss: 0.4897 - accuracy: 0.7671 - val_loss: 0.5153 - val_accuracy: 0.7597\n",
      "Epoch 8/100\n",
      "20/20 [==============================] - 0s 3ms/step - loss: 0.4835 - accuracy: 0.7720 - val_loss: 0.5107 - val_accuracy: 0.7662\n",
      "Epoch 9/100\n",
      "20/20 [==============================] - 0s 4ms/step - loss: 0.4777 - accuracy: 0.7752 - val_loss: 0.5057 - val_accuracy: 0.7662\n",
      "Epoch 10/100\n",
      "20/20 [==============================] - 0s 4ms/step - loss: 0.4727 - accuracy: 0.7736 - val_loss: 0.5018 - val_accuracy: 0.7727\n",
      "Epoch 11/100\n",
      "20/20 [==============================] - 0s 3ms/step - loss: 0.4685 - accuracy: 0.7818 - val_loss: 0.4987 - val_accuracy: 0.7792\n",
      "Epoch 12/100\n",
      "20/20 [==============================] - 0s 4ms/step - loss: 0.4647 - accuracy: 0.7818 - val_loss: 0.4965 - val_accuracy: 0.7792\n",
      "Epoch 13/100\n",
      "20/20 [==============================] - 0s 6ms/step - loss: 0.4616 - accuracy: 0.7866 - val_loss: 0.4951 - val_accuracy: 0.7857\n",
      "Epoch 14/100\n",
      "20/20 [==============================] - 0s 5ms/step - loss: 0.4591 - accuracy: 0.7883 - val_loss: 0.4925 - val_accuracy: 0.7792\n",
      "Epoch 15/100\n",
      "20/20 [==============================] - 0s 4ms/step - loss: 0.4567 - accuracy: 0.7883 - val_loss: 0.4905 - val_accuracy: 0.7792\n",
      "Epoch 16/100\n",
      "20/20 [==============================] - 0s 4ms/step - loss: 0.4539 - accuracy: 0.7899 - val_loss: 0.4894 - val_accuracy: 0.7792\n",
      "Epoch 17/100\n",
      "20/20 [==============================] - 0s 4ms/step - loss: 0.4516 - accuracy: 0.7932 - val_loss: 0.4889 - val_accuracy: 0.7792\n",
      "Epoch 18/100\n",
      "20/20 [==============================] - 0s 3ms/step - loss: 0.4499 - accuracy: 0.7932 - val_loss: 0.4887 - val_accuracy: 0.7792\n",
      "Epoch 19/100\n",
      "20/20 [==============================] - 0s 4ms/step - loss: 0.4483 - accuracy: 0.7948 - val_loss: 0.4883 - val_accuracy: 0.7792\n",
      "Epoch 20/100\n",
      "20/20 [==============================] - 0s 4ms/step - loss: 0.4470 - accuracy: 0.7964 - val_loss: 0.4876 - val_accuracy: 0.7857\n",
      "Epoch 21/100\n",
      "20/20 [==============================] - 0s 4ms/step - loss: 0.4455 - accuracy: 0.7932 - val_loss: 0.4879 - val_accuracy: 0.7792\n",
      "Epoch 22/100\n",
      "20/20 [==============================] - 0s 4ms/step - loss: 0.4438 - accuracy: 0.7948 - val_loss: 0.4876 - val_accuracy: 0.7727\n",
      "Epoch 23/100\n",
      "20/20 [==============================] - 0s 4ms/step - loss: 0.4429 - accuracy: 0.7883 - val_loss: 0.4869 - val_accuracy: 0.7727\n",
      "Epoch 24/100\n",
      "20/20 [==============================] - 0s 4ms/step - loss: 0.4418 - accuracy: 0.7915 - val_loss: 0.4866 - val_accuracy: 0.7727\n",
      "Epoch 25/100\n",
      "20/20 [==============================] - 0s 4ms/step - loss: 0.4407 - accuracy: 0.7932 - val_loss: 0.4864 - val_accuracy: 0.7792\n",
      "Epoch 26/100\n",
      "20/20 [==============================] - 0s 4ms/step - loss: 0.4398 - accuracy: 0.7948 - val_loss: 0.4853 - val_accuracy: 0.7727\n",
      "Epoch 27/100\n",
      "20/20 [==============================] - 0s 4ms/step - loss: 0.4386 - accuracy: 0.7932 - val_loss: 0.4856 - val_accuracy: 0.7727\n",
      "Epoch 28/100\n",
      "20/20 [==============================] - 0s 4ms/step - loss: 0.4377 - accuracy: 0.7932 - val_loss: 0.4853 - val_accuracy: 0.7727\n",
      "Epoch 29/100\n",
      "20/20 [==============================] - 0s 4ms/step - loss: 0.4370 - accuracy: 0.7932 - val_loss: 0.4848 - val_accuracy: 0.7727\n",
      "Epoch 30/100\n",
      "20/20 [==============================] - 0s 4ms/step - loss: 0.4361 - accuracy: 0.7964 - val_loss: 0.4842 - val_accuracy: 0.7662\n",
      "Epoch 31/100\n",
      "20/20 [==============================] - 0s 3ms/step - loss: 0.4353 - accuracy: 0.7997 - val_loss: 0.4839 - val_accuracy: 0.7662\n",
      "Epoch 32/100\n",
      "20/20 [==============================] - 0s 4ms/step - loss: 0.4345 - accuracy: 0.7997 - val_loss: 0.4840 - val_accuracy: 0.7597\n",
      "Epoch 33/100\n",
      "20/20 [==============================] - 0s 4ms/step - loss: 0.4336 - accuracy: 0.7980 - val_loss: 0.4826 - val_accuracy: 0.7597\n",
      "Epoch 34/100\n",
      "20/20 [==============================] - 0s 4ms/step - loss: 0.4331 - accuracy: 0.7980 - val_loss: 0.4820 - val_accuracy: 0.7532\n",
      "Epoch 35/100\n",
      "20/20 [==============================] - 0s 4ms/step - loss: 0.4323 - accuracy: 0.7997 - val_loss: 0.4827 - val_accuracy: 0.7532\n",
      "Epoch 36/100\n",
      "20/20 [==============================] - 0s 3ms/step - loss: 0.4321 - accuracy: 0.7997 - val_loss: 0.4823 - val_accuracy: 0.7532\n",
      "Epoch 37/100\n",
      "20/20 [==============================] - 0s 4ms/step - loss: 0.4312 - accuracy: 0.8029 - val_loss: 0.4824 - val_accuracy: 0.7532\n",
      "Epoch 38/100\n",
      "20/20 [==============================] - 0s 4ms/step - loss: 0.4310 - accuracy: 0.7997 - val_loss: 0.4832 - val_accuracy: 0.7532\n",
      "Epoch 39/100\n",
      "20/20 [==============================] - 0s 4ms/step - loss: 0.4301 - accuracy: 0.8013 - val_loss: 0.4815 - val_accuracy: 0.7532\n",
      "Epoch 40/100\n",
      "20/20 [==============================] - 0s 4ms/step - loss: 0.4293 - accuracy: 0.7997 - val_loss: 0.4812 - val_accuracy: 0.7597\n",
      "Epoch 41/100\n",
      "20/20 [==============================] - 0s 4ms/step - loss: 0.4288 - accuracy: 0.7980 - val_loss: 0.4812 - val_accuracy: 0.7532\n",
      "Epoch 42/100\n",
      "20/20 [==============================] - 0s 4ms/step - loss: 0.4281 - accuracy: 0.7997 - val_loss: 0.4814 - val_accuracy: 0.7532\n",
      "Epoch 43/100\n",
      "20/20 [==============================] - 0s 4ms/step - loss: 0.4274 - accuracy: 0.7997 - val_loss: 0.4816 - val_accuracy: 0.7468\n",
      "Epoch 44/100\n",
      "20/20 [==============================] - 0s 4ms/step - loss: 0.4266 - accuracy: 0.8029 - val_loss: 0.4818 - val_accuracy: 0.7468\n",
      "Epoch 45/100\n",
      "20/20 [==============================] - 0s 4ms/step - loss: 0.4262 - accuracy: 0.8029 - val_loss: 0.4817 - val_accuracy: 0.7468\n",
      "Epoch 46/100\n",
      "20/20 [==============================] - 0s 4ms/step - loss: 0.4255 - accuracy: 0.7997 - val_loss: 0.4817 - val_accuracy: 0.7532\n",
      "Epoch 47/100\n",
      "20/20 [==============================] - 0s 4ms/step - loss: 0.4257 - accuracy: 0.8013 - val_loss: 0.4831 - val_accuracy: 0.7597\n",
      "Epoch 48/100\n",
      "20/20 [==============================] - 0s 4ms/step - loss: 0.4256 - accuracy: 0.8029 - val_loss: 0.4837 - val_accuracy: 0.7532\n",
      "Epoch 49/100\n",
      "20/20 [==============================] - 0s 4ms/step - loss: 0.4250 - accuracy: 0.8013 - val_loss: 0.4823 - val_accuracy: 0.7532\n",
      "Epoch 50/100\n",
      "20/20 [==============================] - 0s 4ms/step - loss: 0.4240 - accuracy: 0.8013 - val_loss: 0.4814 - val_accuracy: 0.7468\n",
      "Epoch 51/100\n",
      "20/20 [==============================] - 0s 4ms/step - loss: 0.4234 - accuracy: 0.8013 - val_loss: 0.4812 - val_accuracy: 0.7468\n",
      "Epoch 52/100\n",
      "20/20 [==============================] - 0s 4ms/step - loss: 0.4236 - accuracy: 0.8029 - val_loss: 0.4811 - val_accuracy: 0.7468\n",
      "Epoch 53/100\n",
      "20/20 [==============================] - 0s 4ms/step - loss: 0.4223 - accuracy: 0.8013 - val_loss: 0.4822 - val_accuracy: 0.7532\n",
      "Epoch 54/100\n",
      "20/20 [==============================] - 0s 3ms/step - loss: 0.4227 - accuracy: 0.7997 - val_loss: 0.4808 - val_accuracy: 0.7532\n",
      "Epoch 55/100\n",
      "20/20 [==============================] - 0s 3ms/step - loss: 0.4217 - accuracy: 0.8046 - val_loss: 0.4800 - val_accuracy: 0.7468\n",
      "Epoch 56/100\n",
      "20/20 [==============================] - 0s 4ms/step - loss: 0.4211 - accuracy: 0.8062 - val_loss: 0.4816 - val_accuracy: 0.7468\n",
      "Epoch 57/100\n",
      "20/20 [==============================] - 0s 4ms/step - loss: 0.4202 - accuracy: 0.8094 - val_loss: 0.4811 - val_accuracy: 0.7468\n",
      "Epoch 58/100\n",
      "20/20 [==============================] - 0s 4ms/step - loss: 0.4200 - accuracy: 0.8046 - val_loss: 0.4801 - val_accuracy: 0.7532\n",
      "Epoch 59/100\n",
      "20/20 [==============================] - 0s 3ms/step - loss: 0.4197 - accuracy: 0.8111 - val_loss: 0.4799 - val_accuracy: 0.7532\n",
      "Epoch 60/100\n",
      "20/20 [==============================] - 0s 4ms/step - loss: 0.4188 - accuracy: 0.8094 - val_loss: 0.4791 - val_accuracy: 0.7532\n",
      "Epoch 61/100\n",
      "20/20 [==============================] - 0s 4ms/step - loss: 0.4189 - accuracy: 0.8078 - val_loss: 0.4799 - val_accuracy: 0.7532\n",
      "Epoch 62/100\n",
      "20/20 [==============================] - 0s 3ms/step - loss: 0.4179 - accuracy: 0.8111 - val_loss: 0.4796 - val_accuracy: 0.7532\n",
      "Epoch 63/100\n",
      "20/20 [==============================] - 0s 4ms/step - loss: 0.4179 - accuracy: 0.8111 - val_loss: 0.4801 - val_accuracy: 0.7532\n",
      "Epoch 64/100\n",
      "20/20 [==============================] - 0s 4ms/step - loss: 0.4173 - accuracy: 0.8160 - val_loss: 0.4793 - val_accuracy: 0.7532\n",
      "Epoch 65/100\n",
      "20/20 [==============================] - 0s 4ms/step - loss: 0.4165 - accuracy: 0.8127 - val_loss: 0.4797 - val_accuracy: 0.7468\n",
      "Epoch 66/100\n",
      "20/20 [==============================] - 0s 4ms/step - loss: 0.4159 - accuracy: 0.8127 - val_loss: 0.4800 - val_accuracy: 0.7468\n",
      "Epoch 67/100\n",
      "20/20 [==============================] - 0s 4ms/step - loss: 0.4166 - accuracy: 0.8176 - val_loss: 0.4804 - val_accuracy: 0.7468\n",
      "Epoch 68/100\n",
      "20/20 [==============================] - 0s 4ms/step - loss: 0.4154 - accuracy: 0.8176 - val_loss: 0.4792 - val_accuracy: 0.7403\n",
      "Epoch 69/100\n",
      "20/20 [==============================] - 0s 4ms/step - loss: 0.4150 - accuracy: 0.8143 - val_loss: 0.4796 - val_accuracy: 0.7468\n",
      "Epoch 70/100\n",
      "20/20 [==============================] - 0s 4ms/step - loss: 0.4146 - accuracy: 0.8127 - val_loss: 0.4803 - val_accuracy: 0.7468\n",
      "Epoch 71/100\n",
      "20/20 [==============================] - 0s 4ms/step - loss: 0.4142 - accuracy: 0.8078 - val_loss: 0.4803 - val_accuracy: 0.7468\n",
      "Epoch 72/100\n",
      "20/20 [==============================] - 0s 5ms/step - loss: 0.4138 - accuracy: 0.8094 - val_loss: 0.4798 - val_accuracy: 0.7468\n",
      "Epoch 73/100\n",
      "20/20 [==============================] - 0s 4ms/step - loss: 0.4137 - accuracy: 0.8111 - val_loss: 0.4798 - val_accuracy: 0.7468\n",
      "Epoch 74/100\n",
      "20/20 [==============================] - 0s 4ms/step - loss: 0.4131 - accuracy: 0.8143 - val_loss: 0.4804 - val_accuracy: 0.7403\n",
      "Epoch 75/100\n",
      "20/20 [==============================] - 0s 4ms/step - loss: 0.4127 - accuracy: 0.8143 - val_loss: 0.4802 - val_accuracy: 0.7468\n",
      "Epoch 76/100\n",
      "20/20 [==============================] - 0s 4ms/step - loss: 0.4120 - accuracy: 0.8127 - val_loss: 0.4806 - val_accuracy: 0.7468\n",
      "Epoch 77/100\n",
      "20/20 [==============================] - 0s 4ms/step - loss: 0.4117 - accuracy: 0.8127 - val_loss: 0.4810 - val_accuracy: 0.7468\n",
      "Epoch 78/100\n",
      "20/20 [==============================] - 0s 4ms/step - loss: 0.4116 - accuracy: 0.8127 - val_loss: 0.4819 - val_accuracy: 0.7468\n",
      "Epoch 79/100\n",
      "20/20 [==============================] - 0s 4ms/step - loss: 0.4114 - accuracy: 0.8143 - val_loss: 0.4808 - val_accuracy: 0.7468\n",
      "Epoch 80/100\n",
      "20/20 [==============================] - 0s 3ms/step - loss: 0.4103 - accuracy: 0.8143 - val_loss: 0.4819 - val_accuracy: 0.7468\n",
      "Epoch 81/100\n",
      "20/20 [==============================] - 0s 3ms/step - loss: 0.4103 - accuracy: 0.8192 - val_loss: 0.4815 - val_accuracy: 0.7468\n",
      "Epoch 82/100\n",
      "20/20 [==============================] - 0s 4ms/step - loss: 0.4098 - accuracy: 0.8176 - val_loss: 0.4810 - val_accuracy: 0.7468\n",
      "Epoch 83/100\n",
      "20/20 [==============================] - 0s 4ms/step - loss: 0.4096 - accuracy: 0.8176 - val_loss: 0.4804 - val_accuracy: 0.7468\n",
      "Epoch 84/100\n",
      "20/20 [==============================] - 0s 4ms/step - loss: 0.4091 - accuracy: 0.8143 - val_loss: 0.4819 - val_accuracy: 0.7468\n",
      "Epoch 85/100\n",
      "20/20 [==============================] - 0s 4ms/step - loss: 0.4088 - accuracy: 0.8160 - val_loss: 0.4809 - val_accuracy: 0.7468\n",
      "Epoch 86/100\n",
      "20/20 [==============================] - 0s 4ms/step - loss: 0.4082 - accuracy: 0.8160 - val_loss: 0.4812 - val_accuracy: 0.7468\n",
      "Epoch 87/100\n",
      "20/20 [==============================] - 0s 4ms/step - loss: 0.4080 - accuracy: 0.8176 - val_loss: 0.4811 - val_accuracy: 0.7468\n",
      "Epoch 88/100\n",
      "20/20 [==============================] - 0s 4ms/step - loss: 0.4075 - accuracy: 0.8160 - val_loss: 0.4816 - val_accuracy: 0.7468\n",
      "Epoch 89/100\n",
      "20/20 [==============================] - 0s 4ms/step - loss: 0.4074 - accuracy: 0.8176 - val_loss: 0.4818 - val_accuracy: 0.7468\n",
      "Epoch 90/100\n",
      "20/20 [==============================] - 0s 3ms/step - loss: 0.4071 - accuracy: 0.8160 - val_loss: 0.4801 - val_accuracy: 0.7468\n",
      "Epoch 91/100\n",
      "20/20 [==============================] - 0s 5ms/step - loss: 0.4069 - accuracy: 0.8127 - val_loss: 0.4810 - val_accuracy: 0.7468\n",
      "Epoch 92/100\n",
      "20/20 [==============================] - 0s 4ms/step - loss: 0.4064 - accuracy: 0.8160 - val_loss: 0.4821 - val_accuracy: 0.7468\n",
      "Epoch 93/100\n",
      "20/20 [==============================] - 0s 4ms/step - loss: 0.4063 - accuracy: 0.8111 - val_loss: 0.4827 - val_accuracy: 0.7468\n",
      "Epoch 94/100\n",
      "20/20 [==============================] - 0s 4ms/step - loss: 0.4056 - accuracy: 0.8208 - val_loss: 0.4839 - val_accuracy: 0.7468\n",
      "Epoch 95/100\n",
      "20/20 [==============================] - 0s 4ms/step - loss: 0.4050 - accuracy: 0.8192 - val_loss: 0.4823 - val_accuracy: 0.7468\n",
      "Epoch 96/100\n",
      "20/20 [==============================] - 0s 4ms/step - loss: 0.4047 - accuracy: 0.8160 - val_loss: 0.4824 - val_accuracy: 0.7468\n",
      "Epoch 97/100\n",
      "20/20 [==============================] - 0s 5ms/step - loss: 0.4044 - accuracy: 0.8143 - val_loss: 0.4824 - val_accuracy: 0.7468\n",
      "Epoch 98/100\n",
      "20/20 [==============================] - 0s 4ms/step - loss: 0.4040 - accuracy: 0.8176 - val_loss: 0.4826 - val_accuracy: 0.7468\n",
      "Epoch 99/100\n",
      "20/20 [==============================] - 0s 4ms/step - loss: 0.4045 - accuracy: 0.8176 - val_loss: 0.4837 - val_accuracy: 0.7468\n",
      "Epoch 100/100\n",
      "20/20 [==============================] - 0s 4ms/step - loss: 0.4037 - accuracy: 0.8192 - val_loss: 0.4830 - val_accuracy: 0.7468\n"
     ]
    },
    {
     "data": {
      "text/plain": [
       "<keras.callbacks.History at 0x7f11222b4ad0>"
      ]
     },
     "execution_count": 11,
     "metadata": {},
     "output_type": "execute_result"
    }
   ],
   "source": [
    "model.fit(x_train, y_train, batch_size=32, epochs=100, validation_data=(x_test, y_test))"
   ]
  },
  {
   "cell_type": "code",
   "execution_count": 12,
   "id": "cbc9a384",
   "metadata": {
    "execution": {
     "iopub.execute_input": "2023-02-24T12:50:19.910261Z",
     "iopub.status.busy": "2023-02-24T12:50:19.909367Z",
     "iopub.status.idle": "2023-02-24T12:50:19.914477Z",
     "shell.execute_reply": "2023-02-24T12:50:19.913426Z"
    },
    "papermill": {
     "duration": 0.035341,
     "end_time": "2023-02-24T12:50:19.917092",
     "exception": false,
     "start_time": "2023-02-24T12:50:19.881751",
     "status": "completed"
    },
    "tags": []
   },
   "outputs": [],
   "source": [
    "# Parameter that we want to optimize\n",
    "# 1. Select appropriate optimizer\n",
    "# 2. No of nodes in a layer\n",
    "# 3. No of layers in the model\n",
    "# 4. All in one model"
   ]
  },
  {
   "cell_type": "code",
   "execution_count": 13,
   "id": "32c96f94",
   "metadata": {
    "execution": {
     "iopub.execute_input": "2023-02-24T12:50:19.966975Z",
     "iopub.status.busy": "2023-02-24T12:50:19.965551Z",
     "iopub.status.idle": "2023-02-24T12:50:20.559038Z",
     "shell.execute_reply": "2023-02-24T12:50:20.557548Z"
    },
    "papermill": {
     "duration": 0.621065,
     "end_time": "2023-02-24T12:50:20.562405",
     "exception": false,
     "start_time": "2023-02-24T12:50:19.941340",
     "status": "completed"
    },
    "tags": []
   },
   "outputs": [],
   "source": [
    "import keras_tuner as kt"
   ]
  },
  {
   "cell_type": "code",
   "execution_count": 14,
   "id": "f4b054ee",
   "metadata": {
    "execution": {
     "iopub.execute_input": "2023-02-24T12:50:20.611954Z",
     "iopub.status.busy": "2023-02-24T12:50:20.611485Z",
     "iopub.status.idle": "2023-02-24T12:50:20.620133Z",
     "shell.execute_reply": "2023-02-24T12:50:20.618481Z"
    },
    "papermill": {
     "duration": 0.035763,
     "end_time": "2023-02-24T12:50:20.622871",
     "exception": false,
     "start_time": "2023-02-24T12:50:20.587108",
     "status": "completed"
    },
    "tags": []
   },
   "outputs": [],
   "source": [
    "# Finding the best optimizer\n",
    "def build_model(hp):\n",
    "    \n",
    "    model = Sequential()\n",
    "    \n",
    "    model.add(Dense(32, activation='relu', input_dim = 8))\n",
    "    model.add(Dense(1, activation='sigmoid'))\n",
    "    \n",
    "    optimizer = hp.Choice('optimizer',values =  ['adam', 'sgd', 'rmsprop', 'adadelta'])\n",
    "                          \n",
    "    model.compile(optimizer=optimizer, loss = 'binary_crossentropy', metrics = ['accuracy'])\n",
    "    \n",
    "    return model"
   ]
  },
  {
   "cell_type": "code",
   "execution_count": 15,
   "id": "dd4514e4",
   "metadata": {
    "execution": {
     "iopub.execute_input": "2023-02-24T12:50:20.674762Z",
     "iopub.status.busy": "2023-02-24T12:50:20.673941Z",
     "iopub.status.idle": "2023-02-24T12:50:20.707888Z",
     "shell.execute_reply": "2023-02-24T12:50:20.706953Z"
    },
    "papermill": {
     "duration": 0.063616,
     "end_time": "2023-02-24T12:50:20.710670",
     "exception": false,
     "start_time": "2023-02-24T12:50:20.647054",
     "status": "completed"
    },
    "tags": []
   },
   "outputs": [],
   "source": [
    "tuner = kt.RandomSearch(\n",
    "    build_model,\n",
    "    objective='val_accuracy',\n",
    "    max_trials = 5,\n",
    "    overwrite = 'True'\n",
    ")"
   ]
  },
  {
   "cell_type": "code",
   "execution_count": 16,
   "id": "b65d156d",
   "metadata": {
    "execution": {
     "iopub.execute_input": "2023-02-24T12:50:20.761254Z",
     "iopub.status.busy": "2023-02-24T12:50:20.760072Z",
     "iopub.status.idle": "2023-02-24T12:50:27.009872Z",
     "shell.execute_reply": "2023-02-24T12:50:27.008719Z"
    },
    "papermill": {
     "duration": 6.277358,
     "end_time": "2023-02-24T12:50:27.012168",
     "exception": false,
     "start_time": "2023-02-24T12:50:20.734810",
     "status": "completed"
    },
    "tags": []
   },
   "outputs": [
    {
     "name": "stdout",
     "output_type": "stream",
     "text": [
      "Trial 4 Complete [00h 00m 01s]\n",
      "val_accuracy: 0.7207792401313782\n",
      "\n",
      "Best val_accuracy So Far: 0.7727272510528564\n",
      "Total elapsed time: 00h 00m 06s\n"
     ]
    }
   ],
   "source": [
    "tuner.search(x_train, y_train, epochs=5, validation_data = (x_test, y_test))"
   ]
  },
  {
   "cell_type": "code",
   "execution_count": 17,
   "id": "2724d2a4",
   "metadata": {
    "execution": {
     "iopub.execute_input": "2023-02-24T12:50:27.061784Z",
     "iopub.status.busy": "2023-02-24T12:50:27.061276Z",
     "iopub.status.idle": "2023-02-24T12:50:27.068835Z",
     "shell.execute_reply": "2023-02-24T12:50:27.067607Z"
    },
    "papermill": {
     "duration": 0.035513,
     "end_time": "2023-02-24T12:50:27.071201",
     "exception": false,
     "start_time": "2023-02-24T12:50:27.035688",
     "status": "completed"
    },
    "tags": []
   },
   "outputs": [
    {
     "data": {
      "text/plain": [
       "{'optimizer': 'rmsprop'}"
      ]
     },
     "execution_count": 17,
     "metadata": {},
     "output_type": "execute_result"
    }
   ],
   "source": [
    "tuner.get_best_hyperparameters()[0].values"
   ]
  },
  {
   "cell_type": "code",
   "execution_count": 18,
   "id": "ded27b3b",
   "metadata": {
    "execution": {
     "iopub.execute_input": "2023-02-24T12:50:27.119739Z",
     "iopub.status.busy": "2023-02-24T12:50:27.119340Z",
     "iopub.status.idle": "2023-02-24T12:50:27.374476Z",
     "shell.execute_reply": "2023-02-24T12:50:27.373481Z"
    },
    "papermill": {
     "duration": 0.282446,
     "end_time": "2023-02-24T12:50:27.376956",
     "exception": false,
     "start_time": "2023-02-24T12:50:27.094510",
     "status": "completed"
    },
    "tags": []
   },
   "outputs": [],
   "source": [
    "# selecting the best model\n",
    "best_model = tuner.get_best_models(num_models=1)[0]"
   ]
  },
  {
   "cell_type": "code",
   "execution_count": 19,
   "id": "4cf4f346",
   "metadata": {
    "execution": {
     "iopub.execute_input": "2023-02-24T12:50:27.424939Z",
     "iopub.status.busy": "2023-02-24T12:50:27.424505Z",
     "iopub.status.idle": "2023-02-24T12:50:27.430684Z",
     "shell.execute_reply": "2023-02-24T12:50:27.429704Z"
    },
    "papermill": {
     "duration": 0.033702,
     "end_time": "2023-02-24T12:50:27.433563",
     "exception": false,
     "start_time": "2023-02-24T12:50:27.399861",
     "status": "completed"
    },
    "tags": []
   },
   "outputs": [
    {
     "name": "stdout",
     "output_type": "stream",
     "text": [
      "Model: \"sequential\"\n",
      "_________________________________________________________________\n",
      "Layer (type)                 Output Shape              Param #   \n",
      "=================================================================\n",
      "dense (Dense)                (None, 32)                288       \n",
      "_________________________________________________________________\n",
      "dense_1 (Dense)              (None, 1)                 33        \n",
      "=================================================================\n",
      "Total params: 321\n",
      "Trainable params: 321\n",
      "Non-trainable params: 0\n",
      "_________________________________________________________________\n"
     ]
    }
   ],
   "source": [
    "best_model.summary()"
   ]
  },
  {
   "cell_type": "code",
   "execution_count": 20,
   "id": "69799331",
   "metadata": {
    "execution": {
     "iopub.execute_input": "2023-02-24T12:50:27.482615Z",
     "iopub.status.busy": "2023-02-24T12:50:27.481776Z",
     "iopub.status.idle": "2023-02-24T12:50:35.679589Z",
     "shell.execute_reply": "2023-02-24T12:50:35.678189Z"
    },
    "papermill": {
     "duration": 8.225762,
     "end_time": "2023-02-24T12:50:35.682450",
     "exception": false,
     "start_time": "2023-02-24T12:50:27.456688",
     "status": "completed"
    },
    "tags": []
   },
   "outputs": [
    {
     "name": "stdout",
     "output_type": "stream",
     "text": [
      "Epoch 7/100\n",
      "20/20 [==============================] - 1s 13ms/step - loss: 0.4993 - accuracy: 0.7704 - val_loss: 0.5059 - val_accuracy: 0.7857\n",
      "Epoch 8/100\n",
      "20/20 [==============================] - 0s 4ms/step - loss: 0.4894 - accuracy: 0.7704 - val_loss: 0.4998 - val_accuracy: 0.7922\n",
      "Epoch 9/100\n",
      "20/20 [==============================] - 0s 4ms/step - loss: 0.4811 - accuracy: 0.7720 - val_loss: 0.4958 - val_accuracy: 0.7922\n",
      "Epoch 10/100\n",
      "20/20 [==============================] - 0s 4ms/step - loss: 0.4747 - accuracy: 0.7818 - val_loss: 0.4916 - val_accuracy: 0.7857\n",
      "Epoch 11/100\n",
      "20/20 [==============================] - 0s 4ms/step - loss: 0.4697 - accuracy: 0.7850 - val_loss: 0.4881 - val_accuracy: 0.7727\n",
      "Epoch 12/100\n",
      "20/20 [==============================] - 0s 4ms/step - loss: 0.4656 - accuracy: 0.7866 - val_loss: 0.4864 - val_accuracy: 0.7792\n",
      "Epoch 13/100\n",
      "20/20 [==============================] - 0s 4ms/step - loss: 0.4619 - accuracy: 0.7932 - val_loss: 0.4851 - val_accuracy: 0.7727\n",
      "Epoch 14/100\n",
      "20/20 [==============================] - 0s 4ms/step - loss: 0.4585 - accuracy: 0.7915 - val_loss: 0.4844 - val_accuracy: 0.7727\n",
      "Epoch 15/100\n",
      "20/20 [==============================] - 0s 4ms/step - loss: 0.4561 - accuracy: 0.7932 - val_loss: 0.4840 - val_accuracy: 0.7727\n",
      "Epoch 16/100\n",
      "20/20 [==============================] - 0s 4ms/step - loss: 0.4539 - accuracy: 0.7964 - val_loss: 0.4832 - val_accuracy: 0.7662\n",
      "Epoch 17/100\n",
      "20/20 [==============================] - 0s 4ms/step - loss: 0.4519 - accuracy: 0.7948 - val_loss: 0.4830 - val_accuracy: 0.7662\n",
      "Epoch 18/100\n",
      "20/20 [==============================] - 0s 4ms/step - loss: 0.4501 - accuracy: 0.7964 - val_loss: 0.4823 - val_accuracy: 0.7597\n",
      "Epoch 19/100\n",
      "20/20 [==============================] - 0s 4ms/step - loss: 0.4484 - accuracy: 0.7964 - val_loss: 0.4824 - val_accuracy: 0.7597\n",
      "Epoch 20/100\n",
      "20/20 [==============================] - 0s 4ms/step - loss: 0.4468 - accuracy: 0.7964 - val_loss: 0.4821 - val_accuracy: 0.7532\n",
      "Epoch 21/100\n",
      "20/20 [==============================] - 0s 4ms/step - loss: 0.4453 - accuracy: 0.7948 - val_loss: 0.4820 - val_accuracy: 0.7597\n",
      "Epoch 22/100\n",
      "20/20 [==============================] - 0s 4ms/step - loss: 0.4444 - accuracy: 0.7980 - val_loss: 0.4823 - val_accuracy: 0.7597\n",
      "Epoch 23/100\n",
      "20/20 [==============================] - 0s 4ms/step - loss: 0.4432 - accuracy: 0.7964 - val_loss: 0.4825 - val_accuracy: 0.7597\n",
      "Epoch 24/100\n",
      "20/20 [==============================] - 0s 4ms/step - loss: 0.4415 - accuracy: 0.8013 - val_loss: 0.4829 - val_accuracy: 0.7532\n",
      "Epoch 25/100\n",
      "20/20 [==============================] - 0s 4ms/step - loss: 0.4408 - accuracy: 0.8013 - val_loss: 0.4824 - val_accuracy: 0.7532\n",
      "Epoch 26/100\n",
      "20/20 [==============================] - 0s 4ms/step - loss: 0.4401 - accuracy: 0.8046 - val_loss: 0.4821 - val_accuracy: 0.7597\n",
      "Epoch 27/100\n",
      "20/20 [==============================] - 0s 4ms/step - loss: 0.4397 - accuracy: 0.8029 - val_loss: 0.4825 - val_accuracy: 0.7532\n",
      "Epoch 28/100\n",
      "20/20 [==============================] - 0s 4ms/step - loss: 0.4387 - accuracy: 0.8029 - val_loss: 0.4824 - val_accuracy: 0.7532\n",
      "Epoch 29/100\n",
      "20/20 [==============================] - 0s 4ms/step - loss: 0.4377 - accuracy: 0.8013 - val_loss: 0.4829 - val_accuracy: 0.7532\n",
      "Epoch 30/100\n",
      "20/20 [==============================] - 0s 4ms/step - loss: 0.4373 - accuracy: 0.7997 - val_loss: 0.4834 - val_accuracy: 0.7468\n",
      "Epoch 31/100\n",
      "20/20 [==============================] - 0s 4ms/step - loss: 0.4363 - accuracy: 0.8046 - val_loss: 0.4840 - val_accuracy: 0.7468\n",
      "Epoch 32/100\n",
      "20/20 [==============================] - 0s 4ms/step - loss: 0.4360 - accuracy: 0.8029 - val_loss: 0.4839 - val_accuracy: 0.7468\n",
      "Epoch 33/100\n",
      "20/20 [==============================] - 0s 4ms/step - loss: 0.4349 - accuracy: 0.8046 - val_loss: 0.4845 - val_accuracy: 0.7468\n",
      "Epoch 34/100\n",
      "20/20 [==============================] - 0s 4ms/step - loss: 0.4343 - accuracy: 0.7980 - val_loss: 0.4847 - val_accuracy: 0.7468\n",
      "Epoch 35/100\n",
      "20/20 [==============================] - 0s 4ms/step - loss: 0.4339 - accuracy: 0.8013 - val_loss: 0.4847 - val_accuracy: 0.7468\n",
      "Epoch 36/100\n",
      "20/20 [==============================] - 0s 4ms/step - loss: 0.4334 - accuracy: 0.8046 - val_loss: 0.4846 - val_accuracy: 0.7403\n",
      "Epoch 37/100\n",
      "20/20 [==============================] - 0s 4ms/step - loss: 0.4325 - accuracy: 0.7948 - val_loss: 0.4845 - val_accuracy: 0.7338\n",
      "Epoch 38/100\n",
      "20/20 [==============================] - 0s 4ms/step - loss: 0.4322 - accuracy: 0.8013 - val_loss: 0.4846 - val_accuracy: 0.7403\n",
      "Epoch 39/100\n",
      "20/20 [==============================] - 0s 4ms/step - loss: 0.4313 - accuracy: 0.8013 - val_loss: 0.4848 - val_accuracy: 0.7338\n",
      "Epoch 40/100\n",
      "20/20 [==============================] - 0s 4ms/step - loss: 0.4310 - accuracy: 0.7997 - val_loss: 0.4846 - val_accuracy: 0.7338\n",
      "Epoch 41/100\n",
      "20/20 [==============================] - 0s 3ms/step - loss: 0.4304 - accuracy: 0.7964 - val_loss: 0.4844 - val_accuracy: 0.7338\n",
      "Epoch 42/100\n",
      "20/20 [==============================] - 0s 4ms/step - loss: 0.4297 - accuracy: 0.7964 - val_loss: 0.4844 - val_accuracy: 0.7338\n",
      "Epoch 43/100\n",
      "20/20 [==============================] - 0s 4ms/step - loss: 0.4291 - accuracy: 0.7980 - val_loss: 0.4846 - val_accuracy: 0.7338\n",
      "Epoch 44/100\n",
      "20/20 [==============================] - 0s 4ms/step - loss: 0.4290 - accuracy: 0.7997 - val_loss: 0.4854 - val_accuracy: 0.7338\n",
      "Epoch 45/100\n",
      "20/20 [==============================] - 0s 4ms/step - loss: 0.4281 - accuracy: 0.8013 - val_loss: 0.4854 - val_accuracy: 0.7338\n",
      "Epoch 46/100\n",
      "20/20 [==============================] - 0s 4ms/step - loss: 0.4276 - accuracy: 0.7948 - val_loss: 0.4858 - val_accuracy: 0.7338\n",
      "Epoch 47/100\n",
      "20/20 [==============================] - 0s 4ms/step - loss: 0.4276 - accuracy: 0.8046 - val_loss: 0.4856 - val_accuracy: 0.7338\n",
      "Epoch 48/100\n",
      "20/20 [==============================] - 0s 4ms/step - loss: 0.4270 - accuracy: 0.8013 - val_loss: 0.4856 - val_accuracy: 0.7403\n",
      "Epoch 49/100\n",
      "20/20 [==============================] - 0s 4ms/step - loss: 0.4263 - accuracy: 0.7980 - val_loss: 0.4855 - val_accuracy: 0.7338\n",
      "Epoch 50/100\n",
      "20/20 [==============================] - 0s 4ms/step - loss: 0.4258 - accuracy: 0.8013 - val_loss: 0.4851 - val_accuracy: 0.7273\n",
      "Epoch 51/100\n",
      "20/20 [==============================] - 0s 5ms/step - loss: 0.4253 - accuracy: 0.8013 - val_loss: 0.4849 - val_accuracy: 0.7338\n",
      "Epoch 52/100\n",
      "20/20 [==============================] - 0s 4ms/step - loss: 0.4251 - accuracy: 0.8046 - val_loss: 0.4845 - val_accuracy: 0.7338\n",
      "Epoch 53/100\n",
      "20/20 [==============================] - 0s 4ms/step - loss: 0.4246 - accuracy: 0.8013 - val_loss: 0.4842 - val_accuracy: 0.7403\n",
      "Epoch 54/100\n",
      "20/20 [==============================] - 0s 4ms/step - loss: 0.4242 - accuracy: 0.8013 - val_loss: 0.4847 - val_accuracy: 0.7273\n",
      "Epoch 55/100\n",
      "20/20 [==============================] - 0s 4ms/step - loss: 0.4235 - accuracy: 0.8029 - val_loss: 0.4856 - val_accuracy: 0.7273\n",
      "Epoch 56/100\n",
      "20/20 [==============================] - 0s 4ms/step - loss: 0.4229 - accuracy: 0.8046 - val_loss: 0.4857 - val_accuracy: 0.7273\n",
      "Epoch 57/100\n",
      "20/20 [==============================] - 0s 3ms/step - loss: 0.4221 - accuracy: 0.8013 - val_loss: 0.4854 - val_accuracy: 0.7273\n",
      "Epoch 58/100\n",
      "20/20 [==============================] - 0s 4ms/step - loss: 0.4222 - accuracy: 0.8062 - val_loss: 0.4865 - val_accuracy: 0.7273\n",
      "Epoch 59/100\n",
      "20/20 [==============================] - 0s 4ms/step - loss: 0.4211 - accuracy: 0.7980 - val_loss: 0.4861 - val_accuracy: 0.7273\n",
      "Epoch 60/100\n",
      "20/20 [==============================] - 0s 4ms/step - loss: 0.4208 - accuracy: 0.8013 - val_loss: 0.4856 - val_accuracy: 0.7273\n",
      "Epoch 61/100\n",
      "20/20 [==============================] - 0s 3ms/step - loss: 0.4205 - accuracy: 0.8013 - val_loss: 0.4858 - val_accuracy: 0.7273\n",
      "Epoch 62/100\n",
      "20/20 [==============================] - 0s 4ms/step - loss: 0.4202 - accuracy: 0.8029 - val_loss: 0.4863 - val_accuracy: 0.7273\n",
      "Epoch 63/100\n",
      "20/20 [==============================] - 0s 4ms/step - loss: 0.4197 - accuracy: 0.8029 - val_loss: 0.4853 - val_accuracy: 0.7273\n",
      "Epoch 64/100\n",
      "20/20 [==============================] - 0s 4ms/step - loss: 0.4191 - accuracy: 0.8029 - val_loss: 0.4854 - val_accuracy: 0.7273\n",
      "Epoch 65/100\n",
      "20/20 [==============================] - 0s 4ms/step - loss: 0.4187 - accuracy: 0.8013 - val_loss: 0.4857 - val_accuracy: 0.7338\n",
      "Epoch 66/100\n",
      "20/20 [==============================] - 0s 4ms/step - loss: 0.4181 - accuracy: 0.8046 - val_loss: 0.4856 - val_accuracy: 0.7338\n",
      "Epoch 67/100\n",
      "20/20 [==============================] - 0s 4ms/step - loss: 0.4177 - accuracy: 0.7997 - val_loss: 0.4853 - val_accuracy: 0.7338\n",
      "Epoch 68/100\n",
      "20/20 [==============================] - 0s 4ms/step - loss: 0.4171 - accuracy: 0.8029 - val_loss: 0.4861 - val_accuracy: 0.7403\n",
      "Epoch 69/100\n",
      "20/20 [==============================] - 0s 4ms/step - loss: 0.4170 - accuracy: 0.8029 - val_loss: 0.4859 - val_accuracy: 0.7338\n",
      "Epoch 70/100\n",
      "20/20 [==============================] - 0s 3ms/step - loss: 0.4163 - accuracy: 0.8029 - val_loss: 0.4857 - val_accuracy: 0.7403\n",
      "Epoch 71/100\n",
      "20/20 [==============================] - 0s 4ms/step - loss: 0.4160 - accuracy: 0.8046 - val_loss: 0.4860 - val_accuracy: 0.7338\n",
      "Epoch 72/100\n",
      "20/20 [==============================] - 0s 4ms/step - loss: 0.4155 - accuracy: 0.8013 - val_loss: 0.4856 - val_accuracy: 0.7338\n",
      "Epoch 73/100\n",
      "20/20 [==============================] - 0s 4ms/step - loss: 0.4152 - accuracy: 0.8013 - val_loss: 0.4869 - val_accuracy: 0.7338\n",
      "Epoch 74/100\n",
      "20/20 [==============================] - 0s 4ms/step - loss: 0.4147 - accuracy: 0.8013 - val_loss: 0.4859 - val_accuracy: 0.7338\n",
      "Epoch 75/100\n",
      "20/20 [==============================] - 0s 4ms/step - loss: 0.4144 - accuracy: 0.8029 - val_loss: 0.4858 - val_accuracy: 0.7338\n",
      "Epoch 76/100\n",
      "20/20 [==============================] - 0s 4ms/step - loss: 0.4139 - accuracy: 0.8029 - val_loss: 0.4855 - val_accuracy: 0.7403\n",
      "Epoch 77/100\n",
      "20/20 [==============================] - 0s 4ms/step - loss: 0.4133 - accuracy: 0.7948 - val_loss: 0.4861 - val_accuracy: 0.7338\n",
      "Epoch 78/100\n",
      "20/20 [==============================] - 0s 4ms/step - loss: 0.4133 - accuracy: 0.8062 - val_loss: 0.4863 - val_accuracy: 0.7403\n",
      "Epoch 79/100\n",
      "20/20 [==============================] - 0s 4ms/step - loss: 0.4127 - accuracy: 0.8094 - val_loss: 0.4868 - val_accuracy: 0.7403\n",
      "Epoch 80/100\n",
      "20/20 [==============================] - 0s 4ms/step - loss: 0.4129 - accuracy: 0.8029 - val_loss: 0.4863 - val_accuracy: 0.7338\n",
      "Epoch 81/100\n",
      "20/20 [==============================] - 0s 4ms/step - loss: 0.4123 - accuracy: 0.8078 - val_loss: 0.4855 - val_accuracy: 0.7403\n",
      "Epoch 82/100\n",
      "20/20 [==============================] - 0s 4ms/step - loss: 0.4114 - accuracy: 0.8029 - val_loss: 0.4863 - val_accuracy: 0.7338\n",
      "Epoch 83/100\n",
      "20/20 [==============================] - 0s 4ms/step - loss: 0.4114 - accuracy: 0.8046 - val_loss: 0.4854 - val_accuracy: 0.7403\n",
      "Epoch 84/100\n",
      "20/20 [==============================] - 0s 4ms/step - loss: 0.4109 - accuracy: 0.8046 - val_loss: 0.4855 - val_accuracy: 0.7403\n",
      "Epoch 85/100\n",
      "20/20 [==============================] - 0s 4ms/step - loss: 0.4106 - accuracy: 0.8013 - val_loss: 0.4862 - val_accuracy: 0.7403\n",
      "Epoch 86/100\n",
      "20/20 [==============================] - 0s 4ms/step - loss: 0.4108 - accuracy: 0.8046 - val_loss: 0.4861 - val_accuracy: 0.7403\n",
      "Epoch 87/100\n",
      "20/20 [==============================] - 0s 4ms/step - loss: 0.4098 - accuracy: 0.8078 - val_loss: 0.4864 - val_accuracy: 0.7338\n",
      "Epoch 88/100\n",
      "20/20 [==============================] - 0s 4ms/step - loss: 0.4096 - accuracy: 0.8078 - val_loss: 0.4857 - val_accuracy: 0.7403\n",
      "Epoch 89/100\n",
      "20/20 [==============================] - 0s 4ms/step - loss: 0.4092 - accuracy: 0.8127 - val_loss: 0.4864 - val_accuracy: 0.7403\n",
      "Epoch 90/100\n",
      "20/20 [==============================] - 0s 4ms/step - loss: 0.4092 - accuracy: 0.8078 - val_loss: 0.4861 - val_accuracy: 0.7403\n",
      "Epoch 91/100\n",
      "20/20 [==============================] - 0s 5ms/step - loss: 0.4086 - accuracy: 0.8111 - val_loss: 0.4860 - val_accuracy: 0.7403\n",
      "Epoch 92/100\n",
      "20/20 [==============================] - 0s 5ms/step - loss: 0.4085 - accuracy: 0.8094 - val_loss: 0.4860 - val_accuracy: 0.7403\n",
      "Epoch 93/100\n",
      "20/20 [==============================] - 0s 4ms/step - loss: 0.4075 - accuracy: 0.8078 - val_loss: 0.4855 - val_accuracy: 0.7468\n",
      "Epoch 94/100\n",
      "20/20 [==============================] - 0s 4ms/step - loss: 0.4073 - accuracy: 0.8094 - val_loss: 0.4854 - val_accuracy: 0.7468\n",
      "Epoch 95/100\n",
      "20/20 [==============================] - 0s 4ms/step - loss: 0.4068 - accuracy: 0.8062 - val_loss: 0.4863 - val_accuracy: 0.7338\n",
      "Epoch 96/100\n",
      "20/20 [==============================] - 0s 4ms/step - loss: 0.4069 - accuracy: 0.8062 - val_loss: 0.4860 - val_accuracy: 0.7468\n",
      "Epoch 97/100\n",
      "20/20 [==============================] - 0s 4ms/step - loss: 0.4063 - accuracy: 0.8127 - val_loss: 0.4855 - val_accuracy: 0.7532\n",
      "Epoch 98/100\n",
      "20/20 [==============================] - 0s 4ms/step - loss: 0.4059 - accuracy: 0.8127 - val_loss: 0.4849 - val_accuracy: 0.7532\n",
      "Epoch 99/100\n",
      "20/20 [==============================] - 0s 4ms/step - loss: 0.4056 - accuracy: 0.8127 - val_loss: 0.4855 - val_accuracy: 0.7532\n",
      "Epoch 100/100\n",
      "20/20 [==============================] - 0s 4ms/step - loss: 0.4052 - accuracy: 0.8160 - val_loss: 0.4857 - val_accuracy: 0.7532\n"
     ]
    },
    {
     "data": {
      "text/plain": [
       "<keras.callbacks.History at 0x7f111a5bd350>"
      ]
     },
     "execution_count": 20,
     "metadata": {},
     "output_type": "execute_result"
    }
   ],
   "source": [
    "best_model.fit(x_train, y_train, batch_size=32, epochs=100, initial_epoch=6, validation_data=(x_test, y_test))"
   ]
  },
  {
   "cell_type": "code",
   "execution_count": 21,
   "id": "06910716",
   "metadata": {
    "execution": {
     "iopub.execute_input": "2023-02-24T12:50:35.754940Z",
     "iopub.status.busy": "2023-02-24T12:50:35.754437Z",
     "iopub.status.idle": "2023-02-24T12:50:35.762474Z",
     "shell.execute_reply": "2023-02-24T12:50:35.761097Z"
    },
    "papermill": {
     "duration": 0.047556,
     "end_time": "2023-02-24T12:50:35.764926",
     "exception": false,
     "start_time": "2023-02-24T12:50:35.717370",
     "status": "completed"
    },
    "tags": []
   },
   "outputs": [],
   "source": [
    "# No of nodes in a layer\n",
    "def build_model(hp):\n",
    "    \n",
    "    model = Sequential()\n",
    "    \n",
    "    units = hp.Int('units', min_value = 8, max_value = 128, step = 8)\n",
    "    \n",
    "    model.add(Dense(units = units, activation = 'relu', input_dim = 8))\n",
    "    \n",
    "    model.add(Dense(1, activation = 'sigmoid'))\n",
    "    \n",
    "    model.compile(\n",
    "        optimizer = 'adam',\n",
    "        loss = 'binary_crossentropy',\n",
    "        metrics = ['accuracy']\n",
    "    )\n",
    "    \n",
    "    return model"
   ]
  },
  {
   "cell_type": "code",
   "execution_count": 22,
   "id": "0e227661",
   "metadata": {
    "execution": {
     "iopub.execute_input": "2023-02-24T12:50:35.836827Z",
     "iopub.status.busy": "2023-02-24T12:50:35.836369Z",
     "iopub.status.idle": "2023-02-24T12:50:35.870876Z",
     "shell.execute_reply": "2023-02-24T12:50:35.869523Z"
    },
    "papermill": {
     "duration": 0.074479,
     "end_time": "2023-02-24T12:50:35.873862",
     "exception": false,
     "start_time": "2023-02-24T12:50:35.799383",
     "status": "completed"
    },
    "tags": []
   },
   "outputs": [],
   "source": [
    "tuner = kt.RandomSearch(\n",
    "    build_model,\n",
    "    objective = 'val_accuracy',\n",
    "    max_trials=5,\n",
    "    directory='mydir',\n",
    "    project_name = 'units',\n",
    "    overwrite = 'True',\n",
    ")"
   ]
  },
  {
   "cell_type": "code",
   "execution_count": 23,
   "id": "3f9447b4",
   "metadata": {
    "execution": {
     "iopub.execute_input": "2023-02-24T12:50:35.945552Z",
     "iopub.status.busy": "2023-02-24T12:50:35.945122Z",
     "iopub.status.idle": "2023-02-24T12:50:43.191451Z",
     "shell.execute_reply": "2023-02-24T12:50:43.189586Z"
    },
    "papermill": {
     "duration": 7.285664,
     "end_time": "2023-02-24T12:50:43.193821",
     "exception": false,
     "start_time": "2023-02-24T12:50:35.908157",
     "status": "completed"
    },
    "tags": []
   },
   "outputs": [
    {
     "name": "stdout",
     "output_type": "stream",
     "text": [
      "Trial 5 Complete [00h 00m 01s]\n",
      "val_accuracy: 0.7597402334213257\n",
      "\n",
      "Best val_accuracy So Far: 0.7662337422370911\n",
      "Total elapsed time: 00h 00m 07s\n"
     ]
    }
   ],
   "source": [
    "tuner.search(x_train, y_train,epochs = 5, validation_data = (x_test, y_test))"
   ]
  },
  {
   "cell_type": "code",
   "execution_count": 24,
   "id": "14e428bb",
   "metadata": {
    "execution": {
     "iopub.execute_input": "2023-02-24T12:50:43.267685Z",
     "iopub.status.busy": "2023-02-24T12:50:43.267176Z",
     "iopub.status.idle": "2023-02-24T12:50:43.275417Z",
     "shell.execute_reply": "2023-02-24T12:50:43.274229Z"
    },
    "papermill": {
     "duration": 0.049095,
     "end_time": "2023-02-24T12:50:43.277761",
     "exception": false,
     "start_time": "2023-02-24T12:50:43.228666",
     "status": "completed"
    },
    "tags": []
   },
   "outputs": [
    {
     "data": {
      "text/plain": [
       "{'units': 72}"
      ]
     },
     "execution_count": 24,
     "metadata": {},
     "output_type": "execute_result"
    }
   ],
   "source": [
    "tuner.get_best_hyperparameters()[0].values"
   ]
  },
  {
   "cell_type": "code",
   "execution_count": 25,
   "id": "0a3a9f94",
   "metadata": {
    "execution": {
     "iopub.execute_input": "2023-02-24T12:50:43.349448Z",
     "iopub.status.busy": "2023-02-24T12:50:43.348577Z",
     "iopub.status.idle": "2023-02-24T12:50:43.606584Z",
     "shell.execute_reply": "2023-02-24T12:50:43.605307Z"
    },
    "papermill": {
     "duration": 0.297392,
     "end_time": "2023-02-24T12:50:43.609885",
     "exception": false,
     "start_time": "2023-02-24T12:50:43.312493",
     "status": "completed"
    },
    "tags": []
   },
   "outputs": [],
   "source": [
    "best_model = tuner.get_best_models()[0]"
   ]
  },
  {
   "cell_type": "code",
   "execution_count": 26,
   "id": "7e574801",
   "metadata": {
    "execution": {
     "iopub.execute_input": "2023-02-24T12:50:43.685717Z",
     "iopub.status.busy": "2023-02-24T12:50:43.685309Z",
     "iopub.status.idle": "2023-02-24T12:50:43.692287Z",
     "shell.execute_reply": "2023-02-24T12:50:43.690900Z"
    },
    "papermill": {
     "duration": 0.047465,
     "end_time": "2023-02-24T12:50:43.694704",
     "exception": false,
     "start_time": "2023-02-24T12:50:43.647239",
     "status": "completed"
    },
    "tags": []
   },
   "outputs": [
    {
     "name": "stdout",
     "output_type": "stream",
     "text": [
      "Model: \"sequential\"\n",
      "_________________________________________________________________\n",
      "Layer (type)                 Output Shape              Param #   \n",
      "=================================================================\n",
      "dense (Dense)                (None, 72)                648       \n",
      "_________________________________________________________________\n",
      "dense_1 (Dense)              (None, 1)                 73        \n",
      "=================================================================\n",
      "Total params: 721\n",
      "Trainable params: 721\n",
      "Non-trainable params: 0\n",
      "_________________________________________________________________\n"
     ]
    }
   ],
   "source": [
    "best_model.summary()"
   ]
  },
  {
   "cell_type": "code",
   "execution_count": 27,
   "id": "e12fe2c7",
   "metadata": {
    "execution": {
     "iopub.execute_input": "2023-02-24T12:50:43.770001Z",
     "iopub.status.busy": "2023-02-24T12:50:43.769061Z",
     "iopub.status.idle": "2023-02-24T12:50:52.478491Z",
     "shell.execute_reply": "2023-02-24T12:50:52.477358Z"
    },
    "papermill": {
     "duration": 8.749706,
     "end_time": "2023-02-24T12:50:52.481113",
     "exception": false,
     "start_time": "2023-02-24T12:50:43.731407",
     "status": "completed"
    },
    "tags": []
   },
   "outputs": [
    {
     "name": "stdout",
     "output_type": "stream",
     "text": [
      "Epoch 7/100\n",
      "20/20 [==============================] - 1s 12ms/step - loss: 0.4858 - accuracy: 0.7769 - val_loss: 0.5063 - val_accuracy: 0.7468\n",
      "Epoch 8/100\n",
      "20/20 [==============================] - 0s 4ms/step - loss: 0.4750 - accuracy: 0.7818 - val_loss: 0.4977 - val_accuracy: 0.7403\n",
      "Epoch 9/100\n",
      "20/20 [==============================] - 0s 4ms/step - loss: 0.4659 - accuracy: 0.7834 - val_loss: 0.4922 - val_accuracy: 0.7468\n",
      "Epoch 10/100\n",
      "20/20 [==============================] - 0s 4ms/step - loss: 0.4598 - accuracy: 0.7899 - val_loss: 0.4907 - val_accuracy: 0.7597\n",
      "Epoch 11/100\n",
      "20/20 [==============================] - 0s 4ms/step - loss: 0.4554 - accuracy: 0.7834 - val_loss: 0.4878 - val_accuracy: 0.7662\n",
      "Epoch 12/100\n",
      "20/20 [==============================] - 0s 4ms/step - loss: 0.4509 - accuracy: 0.7899 - val_loss: 0.4866 - val_accuracy: 0.7662\n",
      "Epoch 13/100\n",
      "20/20 [==============================] - 0s 4ms/step - loss: 0.4481 - accuracy: 0.7866 - val_loss: 0.4863 - val_accuracy: 0.7597\n",
      "Epoch 14/100\n",
      "20/20 [==============================] - 0s 4ms/step - loss: 0.4451 - accuracy: 0.7883 - val_loss: 0.4837 - val_accuracy: 0.7597\n",
      "Epoch 15/100\n",
      "20/20 [==============================] - 0s 4ms/step - loss: 0.4430 - accuracy: 0.7980 - val_loss: 0.4847 - val_accuracy: 0.7597\n",
      "Epoch 16/100\n",
      "20/20 [==============================] - 0s 4ms/step - loss: 0.4412 - accuracy: 0.7980 - val_loss: 0.4864 - val_accuracy: 0.7597\n",
      "Epoch 17/100\n",
      "20/20 [==============================] - 0s 4ms/step - loss: 0.4405 - accuracy: 0.7915 - val_loss: 0.4887 - val_accuracy: 0.7662\n",
      "Epoch 18/100\n",
      "20/20 [==============================] - 0s 4ms/step - loss: 0.4389 - accuracy: 0.7915 - val_loss: 0.4863 - val_accuracy: 0.7662\n",
      "Epoch 19/100\n",
      "20/20 [==============================] - 0s 4ms/step - loss: 0.4379 - accuracy: 0.7899 - val_loss: 0.4867 - val_accuracy: 0.7662\n",
      "Epoch 20/100\n",
      "20/20 [==============================] - 0s 4ms/step - loss: 0.4373 - accuracy: 0.7899 - val_loss: 0.4850 - val_accuracy: 0.7468\n",
      "Epoch 21/100\n",
      "20/20 [==============================] - 0s 4ms/step - loss: 0.4347 - accuracy: 0.7948 - val_loss: 0.4850 - val_accuracy: 0.7532\n",
      "Epoch 22/100\n",
      "20/20 [==============================] - 0s 4ms/step - loss: 0.4332 - accuracy: 0.7932 - val_loss: 0.4860 - val_accuracy: 0.7532\n",
      "Epoch 23/100\n",
      "20/20 [==============================] - 0s 6ms/step - loss: 0.4318 - accuracy: 0.7899 - val_loss: 0.4860 - val_accuracy: 0.7662\n",
      "Epoch 24/100\n",
      "20/20 [==============================] - 0s 4ms/step - loss: 0.4313 - accuracy: 0.7915 - val_loss: 0.4886 - val_accuracy: 0.7597\n",
      "Epoch 25/100\n",
      "20/20 [==============================] - 0s 4ms/step - loss: 0.4304 - accuracy: 0.7932 - val_loss: 0.4886 - val_accuracy: 0.7597\n",
      "Epoch 26/100\n",
      "20/20 [==============================] - 0s 5ms/step - loss: 0.4290 - accuracy: 0.7964 - val_loss: 0.4874 - val_accuracy: 0.7403\n",
      "Epoch 27/100\n",
      "20/20 [==============================] - 0s 4ms/step - loss: 0.4273 - accuracy: 0.7964 - val_loss: 0.4868 - val_accuracy: 0.7468\n",
      "Epoch 28/100\n",
      "20/20 [==============================] - 0s 4ms/step - loss: 0.4271 - accuracy: 0.7964 - val_loss: 0.4873 - val_accuracy: 0.7532\n",
      "Epoch 29/100\n",
      "20/20 [==============================] - 0s 4ms/step - loss: 0.4259 - accuracy: 0.7964 - val_loss: 0.4878 - val_accuracy: 0.7597\n",
      "Epoch 30/100\n",
      "20/20 [==============================] - 0s 4ms/step - loss: 0.4253 - accuracy: 0.7964 - val_loss: 0.4875 - val_accuracy: 0.7532\n",
      "Epoch 31/100\n",
      "20/20 [==============================] - 0s 4ms/step - loss: 0.4245 - accuracy: 0.7964 - val_loss: 0.4873 - val_accuracy: 0.7597\n",
      "Epoch 32/100\n",
      "20/20 [==============================] - 0s 4ms/step - loss: 0.4238 - accuracy: 0.7980 - val_loss: 0.4872 - val_accuracy: 0.7468\n",
      "Epoch 33/100\n",
      "20/20 [==============================] - 0s 4ms/step - loss: 0.4235 - accuracy: 0.8013 - val_loss: 0.4873 - val_accuracy: 0.7403\n",
      "Epoch 34/100\n",
      "20/20 [==============================] - 0s 4ms/step - loss: 0.4220 - accuracy: 0.7997 - val_loss: 0.4886 - val_accuracy: 0.7532\n",
      "Epoch 35/100\n",
      "20/20 [==============================] - 0s 4ms/step - loss: 0.4222 - accuracy: 0.7997 - val_loss: 0.4877 - val_accuracy: 0.7532\n",
      "Epoch 36/100\n",
      "20/20 [==============================] - 0s 4ms/step - loss: 0.4211 - accuracy: 0.8062 - val_loss: 0.4899 - val_accuracy: 0.7532\n",
      "Epoch 37/100\n",
      "20/20 [==============================] - 0s 4ms/step - loss: 0.4195 - accuracy: 0.8046 - val_loss: 0.4890 - val_accuracy: 0.7532\n",
      "Epoch 38/100\n",
      "20/20 [==============================] - 0s 4ms/step - loss: 0.4193 - accuracy: 0.8029 - val_loss: 0.4889 - val_accuracy: 0.7532\n",
      "Epoch 39/100\n",
      "20/20 [==============================] - 0s 4ms/step - loss: 0.4195 - accuracy: 0.8046 - val_loss: 0.4889 - val_accuracy: 0.7532\n",
      "Epoch 40/100\n",
      "20/20 [==============================] - 0s 4ms/step - loss: 0.4175 - accuracy: 0.8029 - val_loss: 0.4905 - val_accuracy: 0.7532\n",
      "Epoch 41/100\n",
      "20/20 [==============================] - 0s 4ms/step - loss: 0.4168 - accuracy: 0.8062 - val_loss: 0.4904 - val_accuracy: 0.7532\n",
      "Epoch 42/100\n",
      "20/20 [==============================] - 0s 4ms/step - loss: 0.4162 - accuracy: 0.8013 - val_loss: 0.4894 - val_accuracy: 0.7468\n",
      "Epoch 43/100\n",
      "20/20 [==============================] - 0s 4ms/step - loss: 0.4160 - accuracy: 0.8029 - val_loss: 0.4903 - val_accuracy: 0.7338\n",
      "Epoch 44/100\n",
      "20/20 [==============================] - 0s 4ms/step - loss: 0.4155 - accuracy: 0.8078 - val_loss: 0.4882 - val_accuracy: 0.7403\n",
      "Epoch 45/100\n",
      "20/20 [==============================] - 0s 4ms/step - loss: 0.4146 - accuracy: 0.8078 - val_loss: 0.4896 - val_accuracy: 0.7468\n",
      "Epoch 46/100\n",
      "20/20 [==============================] - 0s 4ms/step - loss: 0.4142 - accuracy: 0.8046 - val_loss: 0.4899 - val_accuracy: 0.7468\n",
      "Epoch 47/100\n",
      "20/20 [==============================] - 0s 4ms/step - loss: 0.4142 - accuracy: 0.8078 - val_loss: 0.4938 - val_accuracy: 0.7403\n",
      "Epoch 48/100\n",
      "20/20 [==============================] - 0s 4ms/step - loss: 0.4123 - accuracy: 0.8111 - val_loss: 0.4908 - val_accuracy: 0.7403\n",
      "Epoch 49/100\n",
      "20/20 [==============================] - 0s 4ms/step - loss: 0.4118 - accuracy: 0.8111 - val_loss: 0.4915 - val_accuracy: 0.7468\n",
      "Epoch 50/100\n",
      "20/20 [==============================] - 0s 4ms/step - loss: 0.4121 - accuracy: 0.8111 - val_loss: 0.4927 - val_accuracy: 0.7403\n",
      "Epoch 51/100\n",
      "20/20 [==============================] - 0s 4ms/step - loss: 0.4108 - accuracy: 0.8094 - val_loss: 0.4913 - val_accuracy: 0.7468\n",
      "Epoch 52/100\n",
      "20/20 [==============================] - 0s 4ms/step - loss: 0.4097 - accuracy: 0.8062 - val_loss: 0.4905 - val_accuracy: 0.7403\n",
      "Epoch 53/100\n",
      "20/20 [==============================] - 0s 4ms/step - loss: 0.4096 - accuracy: 0.8143 - val_loss: 0.4912 - val_accuracy: 0.7403\n",
      "Epoch 54/100\n",
      "20/20 [==============================] - 0s 4ms/step - loss: 0.4085 - accuracy: 0.8143 - val_loss: 0.4903 - val_accuracy: 0.7468\n",
      "Epoch 55/100\n",
      "20/20 [==============================] - 0s 4ms/step - loss: 0.4080 - accuracy: 0.8127 - val_loss: 0.4902 - val_accuracy: 0.7468\n",
      "Epoch 56/100\n",
      "20/20 [==============================] - 0s 4ms/step - loss: 0.4087 - accuracy: 0.8062 - val_loss: 0.4901 - val_accuracy: 0.7468\n",
      "Epoch 57/100\n",
      "20/20 [==============================] - 0s 4ms/step - loss: 0.4074 - accuracy: 0.8127 - val_loss: 0.4917 - val_accuracy: 0.7403\n",
      "Epoch 58/100\n",
      "20/20 [==============================] - 0s 4ms/step - loss: 0.4065 - accuracy: 0.8127 - val_loss: 0.4933 - val_accuracy: 0.7468\n",
      "Epoch 59/100\n",
      "20/20 [==============================] - 0s 4ms/step - loss: 0.4057 - accuracy: 0.8127 - val_loss: 0.4925 - val_accuracy: 0.7468\n",
      "Epoch 60/100\n",
      "20/20 [==============================] - 0s 4ms/step - loss: 0.4059 - accuracy: 0.8094 - val_loss: 0.4899 - val_accuracy: 0.7273\n",
      "Epoch 61/100\n",
      "20/20 [==============================] - 0s 4ms/step - loss: 0.4060 - accuracy: 0.8078 - val_loss: 0.4896 - val_accuracy: 0.7338\n",
      "Epoch 62/100\n",
      "20/20 [==============================] - 0s 4ms/step - loss: 0.4044 - accuracy: 0.8143 - val_loss: 0.4919 - val_accuracy: 0.7338\n",
      "Epoch 63/100\n",
      "20/20 [==============================] - 0s 4ms/step - loss: 0.4046 - accuracy: 0.8143 - val_loss: 0.4933 - val_accuracy: 0.7338\n",
      "Epoch 64/100\n",
      "20/20 [==============================] - 0s 4ms/step - loss: 0.4036 - accuracy: 0.8160 - val_loss: 0.4931 - val_accuracy: 0.7338\n",
      "Epoch 65/100\n",
      "20/20 [==============================] - 0s 4ms/step - loss: 0.4028 - accuracy: 0.8127 - val_loss: 0.4955 - val_accuracy: 0.7403\n",
      "Epoch 66/100\n",
      "20/20 [==============================] - 0s 4ms/step - loss: 0.4031 - accuracy: 0.8160 - val_loss: 0.4955 - val_accuracy: 0.7403\n",
      "Epoch 67/100\n",
      "20/20 [==============================] - 0s 4ms/step - loss: 0.4034 - accuracy: 0.8160 - val_loss: 0.4932 - val_accuracy: 0.7468\n",
      "Epoch 68/100\n",
      "20/20 [==============================] - 0s 4ms/step - loss: 0.4023 - accuracy: 0.8176 - val_loss: 0.4967 - val_accuracy: 0.7403\n",
      "Epoch 69/100\n",
      "20/20 [==============================] - 0s 4ms/step - loss: 0.4014 - accuracy: 0.8208 - val_loss: 0.4960 - val_accuracy: 0.7403\n",
      "Epoch 70/100\n",
      "20/20 [==============================] - 0s 4ms/step - loss: 0.4004 - accuracy: 0.8160 - val_loss: 0.4963 - val_accuracy: 0.7468\n",
      "Epoch 71/100\n",
      "20/20 [==============================] - 0s 4ms/step - loss: 0.4002 - accuracy: 0.8111 - val_loss: 0.4954 - val_accuracy: 0.7403\n",
      "Epoch 72/100\n",
      "20/20 [==============================] - 0s 4ms/step - loss: 0.4005 - accuracy: 0.8143 - val_loss: 0.4983 - val_accuracy: 0.7338\n",
      "Epoch 73/100\n",
      "20/20 [==============================] - 0s 4ms/step - loss: 0.3998 - accuracy: 0.8208 - val_loss: 0.4987 - val_accuracy: 0.7338\n",
      "Epoch 74/100\n",
      "20/20 [==============================] - 0s 4ms/step - loss: 0.3985 - accuracy: 0.8208 - val_loss: 0.4963 - val_accuracy: 0.7338\n",
      "Epoch 75/100\n",
      "20/20 [==============================] - 0s 5ms/step - loss: 0.3984 - accuracy: 0.8176 - val_loss: 0.4951 - val_accuracy: 0.7338\n",
      "Epoch 76/100\n",
      "20/20 [==============================] - 0s 4ms/step - loss: 0.3978 - accuracy: 0.8192 - val_loss: 0.4935 - val_accuracy: 0.7338\n",
      "Epoch 77/100\n",
      "20/20 [==============================] - 0s 5ms/step - loss: 0.3978 - accuracy: 0.8160 - val_loss: 0.4944 - val_accuracy: 0.7468\n",
      "Epoch 78/100\n",
      "20/20 [==============================] - 0s 4ms/step - loss: 0.3967 - accuracy: 0.8192 - val_loss: 0.4959 - val_accuracy: 0.7338\n",
      "Epoch 79/100\n",
      "20/20 [==============================] - 0s 4ms/step - loss: 0.3967 - accuracy: 0.8274 - val_loss: 0.4957 - val_accuracy: 0.7338\n",
      "Epoch 80/100\n",
      "20/20 [==============================] - 0s 4ms/step - loss: 0.3961 - accuracy: 0.8225 - val_loss: 0.4945 - val_accuracy: 0.7338\n",
      "Epoch 81/100\n",
      "20/20 [==============================] - 0s 4ms/step - loss: 0.3964 - accuracy: 0.8274 - val_loss: 0.4930 - val_accuracy: 0.7403\n",
      "Epoch 82/100\n",
      "20/20 [==============================] - 0s 4ms/step - loss: 0.3959 - accuracy: 0.8225 - val_loss: 0.4958 - val_accuracy: 0.7403\n",
      "Epoch 83/100\n",
      "20/20 [==============================] - 0s 4ms/step - loss: 0.3958 - accuracy: 0.8241 - val_loss: 0.4993 - val_accuracy: 0.7338\n",
      "Epoch 84/100\n",
      "20/20 [==============================] - 0s 4ms/step - loss: 0.3952 - accuracy: 0.8241 - val_loss: 0.4983 - val_accuracy: 0.7403\n",
      "Epoch 85/100\n",
      "20/20 [==============================] - 0s 4ms/step - loss: 0.3941 - accuracy: 0.8257 - val_loss: 0.4987 - val_accuracy: 0.7338\n",
      "Epoch 86/100\n",
      "20/20 [==============================] - 0s 4ms/step - loss: 0.3934 - accuracy: 0.8257 - val_loss: 0.5001 - val_accuracy: 0.7338\n",
      "Epoch 87/100\n",
      "20/20 [==============================] - 0s 4ms/step - loss: 0.3937 - accuracy: 0.8208 - val_loss: 0.4980 - val_accuracy: 0.7403\n",
      "Epoch 88/100\n",
      "20/20 [==============================] - 0s 5ms/step - loss: 0.3922 - accuracy: 0.8225 - val_loss: 0.4987 - val_accuracy: 0.7338\n",
      "Epoch 89/100\n",
      "20/20 [==============================] - 0s 4ms/step - loss: 0.3930 - accuracy: 0.8176 - val_loss: 0.4975 - val_accuracy: 0.7273\n",
      "Epoch 90/100\n",
      "20/20 [==============================] - 0s 4ms/step - loss: 0.3927 - accuracy: 0.8208 - val_loss: 0.4997 - val_accuracy: 0.7468\n",
      "Epoch 91/100\n",
      "20/20 [==============================] - 0s 4ms/step - loss: 0.3925 - accuracy: 0.8225 - val_loss: 0.4999 - val_accuracy: 0.7273\n",
      "Epoch 92/100\n",
      "20/20 [==============================] - 0s 4ms/step - loss: 0.3916 - accuracy: 0.8160 - val_loss: 0.4995 - val_accuracy: 0.7273\n",
      "Epoch 93/100\n",
      "20/20 [==============================] - 0s 4ms/step - loss: 0.3904 - accuracy: 0.8225 - val_loss: 0.5003 - val_accuracy: 0.7338\n",
      "Epoch 94/100\n",
      "20/20 [==============================] - 0s 4ms/step - loss: 0.3913 - accuracy: 0.8241 - val_loss: 0.4971 - val_accuracy: 0.7468\n",
      "Epoch 95/100\n",
      "20/20 [==============================] - 0s 4ms/step - loss: 0.3903 - accuracy: 0.8257 - val_loss: 0.4968 - val_accuracy: 0.7273\n",
      "Epoch 96/100\n",
      "20/20 [==============================] - 0s 4ms/step - loss: 0.3888 - accuracy: 0.8274 - val_loss: 0.4999 - val_accuracy: 0.7273\n",
      "Epoch 97/100\n",
      "20/20 [==============================] - 0s 4ms/step - loss: 0.3895 - accuracy: 0.8192 - val_loss: 0.5002 - val_accuracy: 0.7273\n",
      "Epoch 98/100\n",
      "20/20 [==============================] - 0s 4ms/step - loss: 0.3883 - accuracy: 0.8208 - val_loss: 0.5017 - val_accuracy: 0.7273\n",
      "Epoch 99/100\n",
      "20/20 [==============================] - 0s 4ms/step - loss: 0.3891 - accuracy: 0.8208 - val_loss: 0.5036 - val_accuracy: 0.7338\n",
      "Epoch 100/100\n",
      "20/20 [==============================] - 0s 4ms/step - loss: 0.3881 - accuracy: 0.8208 - val_loss: 0.5015 - val_accuracy: 0.7273\n"
     ]
    },
    {
     "data": {
      "text/plain": [
       "<keras.callbacks.History at 0x7f1119aec8d0>"
      ]
     },
     "execution_count": 27,
     "metadata": {},
     "output_type": "execute_result"
    }
   ],
   "source": [
    "best_model.fit(x_train, y_train, epochs = 100, batch_size = 32, initial_epoch=6, validation_data=(x_test, y_test))"
   ]
  },
  {
   "cell_type": "code",
   "execution_count": 28,
   "id": "4f87f023",
   "metadata": {
    "execution": {
     "iopub.execute_input": "2023-02-24T12:50:52.576421Z",
     "iopub.status.busy": "2023-02-24T12:50:52.575989Z",
     "iopub.status.idle": "2023-02-24T12:50:52.583282Z",
     "shell.execute_reply": "2023-02-24T12:50:52.581915Z"
    },
    "papermill": {
     "duration": 0.057269,
     "end_time": "2023-02-24T12:50:52.585774",
     "exception": false,
     "start_time": "2023-02-24T12:50:52.528505",
     "status": "completed"
    },
    "tags": []
   },
   "outputs": [],
   "source": [
    "def build_model(hp):\n",
    "    \n",
    "    model = Sequential()\n",
    "    \n",
    "    model.add(Dense(72, activation='relu', input_dim = 8))\n",
    "    \n",
    "    for i in range(hp.Int('num_layers', min_value = 1, max_value = 10)):\n",
    "        \n",
    "        model.add(Dense(72, activation='relu'))\n",
    "    \n",
    "    model.add(Dense(1, activation='sigmoid'))\n",
    "\n",
    "    model.compile(optimizer= 'adam', loss = 'binary_crossentropy', metrics =['accuracy'])\n",
    "\n",
    "    return model"
   ]
  },
  {
   "cell_type": "code",
   "execution_count": 29,
   "id": "048833cc",
   "metadata": {
    "execution": {
     "iopub.execute_input": "2023-02-24T12:50:52.682665Z",
     "iopub.status.busy": "2023-02-24T12:50:52.681526Z",
     "iopub.status.idle": "2023-02-24T12:50:52.720956Z",
     "shell.execute_reply": "2023-02-24T12:50:52.720059Z"
    },
    "papermill": {
     "duration": 0.091292,
     "end_time": "2023-02-24T12:50:52.723831",
     "exception": false,
     "start_time": "2023-02-24T12:50:52.632539",
     "status": "completed"
    },
    "tags": []
   },
   "outputs": [],
   "source": [
    "tuner = kt.RandomSearch(\n",
    "    build_model, \n",
    "    objective='val_accuracy', \n",
    "    max_trials = 3, \n",
    "    directory='mydir',\n",
    "    project_name = 'layers',\n",
    "    overwrite = 'True',)"
   ]
  },
  {
   "cell_type": "code",
   "execution_count": 30,
   "id": "d4403a34",
   "metadata": {
    "execution": {
     "iopub.execute_input": "2023-02-24T12:50:52.821341Z",
     "iopub.status.busy": "2023-02-24T12:50:52.820045Z",
     "iopub.status.idle": "2023-02-24T12:50:59.064987Z",
     "shell.execute_reply": "2023-02-24T12:50:59.063765Z"
    },
    "papermill": {
     "duration": 6.296353,
     "end_time": "2023-02-24T12:50:59.068564",
     "exception": false,
     "start_time": "2023-02-24T12:50:52.772211",
     "status": "completed"
    },
    "tags": []
   },
   "outputs": [
    {
     "name": "stdout",
     "output_type": "stream",
     "text": [
      "Trial 3 Complete [00h 00m 02s]\n",
      "val_accuracy: 0.7662337422370911\n",
      "\n",
      "Best val_accuracy So Far: 0.7727272510528564\n",
      "Total elapsed time: 00h 00m 06s\n"
     ]
    }
   ],
   "source": [
    "tuner.search(x_train, y_train,epochs=5, validation_data = (x_test, y_test))"
   ]
  },
  {
   "cell_type": "code",
   "execution_count": 31,
   "id": "f7590b80",
   "metadata": {
    "execution": {
     "iopub.execute_input": "2023-02-24T12:50:59.164937Z",
     "iopub.status.busy": "2023-02-24T12:50:59.164517Z",
     "iopub.status.idle": "2023-02-24T12:50:59.172882Z",
     "shell.execute_reply": "2023-02-24T12:50:59.171607Z"
    },
    "papermill": {
     "duration": 0.060286,
     "end_time": "2023-02-24T12:50:59.175679",
     "exception": false,
     "start_time": "2023-02-24T12:50:59.115393",
     "status": "completed"
    },
    "tags": []
   },
   "outputs": [
    {
     "data": {
      "text/plain": [
       "{'num_layers': 3}"
      ]
     },
     "execution_count": 31,
     "metadata": {},
     "output_type": "execute_result"
    }
   ],
   "source": [
    "tuner.get_best_hyperparameters()[0].values"
   ]
  },
  {
   "cell_type": "code",
   "execution_count": 32,
   "id": "58bf2910",
   "metadata": {
    "execution": {
     "iopub.execute_input": "2023-02-24T12:50:59.276123Z",
     "iopub.status.busy": "2023-02-24T12:50:59.275706Z",
     "iopub.status.idle": "2023-02-24T12:50:59.590685Z",
     "shell.execute_reply": "2023-02-24T12:50:59.589622Z"
    },
    "papermill": {
     "duration": 0.370233,
     "end_time": "2023-02-24T12:50:59.593189",
     "exception": false,
     "start_time": "2023-02-24T12:50:59.222956",
     "status": "completed"
    },
    "tags": []
   },
   "outputs": [],
   "source": [
    "best_model = tuner.get_best_models()[0]"
   ]
  },
  {
   "cell_type": "code",
   "execution_count": 33,
   "id": "efed2587",
   "metadata": {
    "execution": {
     "iopub.execute_input": "2023-02-24T12:50:59.694004Z",
     "iopub.status.busy": "2023-02-24T12:50:59.693276Z",
     "iopub.status.idle": "2023-02-24T12:51:12.353779Z",
     "shell.execute_reply": "2023-02-24T12:51:12.352349Z"
    },
    "papermill": {
     "duration": 12.714125,
     "end_time": "2023-02-24T12:51:12.356592",
     "exception": false,
     "start_time": "2023-02-24T12:50:59.642467",
     "status": "completed"
    },
    "tags": []
   },
   "outputs": [
    {
     "name": "stdout",
     "output_type": "stream",
     "text": [
      "Epoch 7/100\n",
      "20/20 [==============================] - 1s 16ms/step - loss: 0.4665 - accuracy: 0.7834 - val_loss: 0.4898 - val_accuracy: 0.7532\n",
      "Epoch 8/100\n",
      "20/20 [==============================] - 0s 6ms/step - loss: 0.4509 - accuracy: 0.7850 - val_loss: 0.4887 - val_accuracy: 0.7662\n",
      "Epoch 9/100\n",
      "20/20 [==============================] - 0s 7ms/step - loss: 0.4324 - accuracy: 0.7948 - val_loss: 0.4909 - val_accuracy: 0.7662\n",
      "Epoch 10/100\n",
      "20/20 [==============================] - 0s 6ms/step - loss: 0.4231 - accuracy: 0.7899 - val_loss: 0.4884 - val_accuracy: 0.7403\n",
      "Epoch 11/100\n",
      "20/20 [==============================] - 0s 7ms/step - loss: 0.4214 - accuracy: 0.8013 - val_loss: 0.4978 - val_accuracy: 0.7532\n",
      "Epoch 12/100\n",
      "20/20 [==============================] - 0s 6ms/step - loss: 0.4202 - accuracy: 0.7997 - val_loss: 0.4848 - val_accuracy: 0.7532\n",
      "Epoch 13/100\n",
      "20/20 [==============================] - 0s 7ms/step - loss: 0.4078 - accuracy: 0.7980 - val_loss: 0.4998 - val_accuracy: 0.7468\n",
      "Epoch 14/100\n",
      "20/20 [==============================] - 0s 6ms/step - loss: 0.3971 - accuracy: 0.8111 - val_loss: 0.4907 - val_accuracy: 0.7468\n",
      "Epoch 15/100\n",
      "20/20 [==============================] - 0s 6ms/step - loss: 0.3793 - accuracy: 0.8322 - val_loss: 0.4977 - val_accuracy: 0.7597\n",
      "Epoch 16/100\n",
      "20/20 [==============================] - 0s 7ms/step - loss: 0.3702 - accuracy: 0.8322 - val_loss: 0.4970 - val_accuracy: 0.7403\n",
      "Epoch 17/100\n",
      "20/20 [==============================] - 0s 7ms/step - loss: 0.3674 - accuracy: 0.8290 - val_loss: 0.5001 - val_accuracy: 0.7338\n",
      "Epoch 18/100\n",
      "20/20 [==============================] - 0s 6ms/step - loss: 0.3589 - accuracy: 0.8420 - val_loss: 0.5196 - val_accuracy: 0.7662\n",
      "Epoch 19/100\n",
      "20/20 [==============================] - 0s 6ms/step - loss: 0.3488 - accuracy: 0.8306 - val_loss: 0.5168 - val_accuracy: 0.7662\n",
      "Epoch 20/100\n",
      "20/20 [==============================] - 0s 6ms/step - loss: 0.3408 - accuracy: 0.8534 - val_loss: 0.5274 - val_accuracy: 0.7532\n",
      "Epoch 21/100\n",
      "20/20 [==============================] - 0s 6ms/step - loss: 0.3275 - accuracy: 0.8518 - val_loss: 0.5405 - val_accuracy: 0.7532\n",
      "Epoch 22/100\n",
      "20/20 [==============================] - 0s 6ms/step - loss: 0.3272 - accuracy: 0.8567 - val_loss: 0.5197 - val_accuracy: 0.7662\n",
      "Epoch 23/100\n",
      "20/20 [==============================] - 0s 6ms/step - loss: 0.3193 - accuracy: 0.8502 - val_loss: 0.5683 - val_accuracy: 0.7532\n",
      "Epoch 24/100\n",
      "20/20 [==============================] - 0s 6ms/step - loss: 0.3066 - accuracy: 0.8632 - val_loss: 0.5384 - val_accuracy: 0.7662\n",
      "Epoch 25/100\n",
      "20/20 [==============================] - 0s 6ms/step - loss: 0.3126 - accuracy: 0.8616 - val_loss: 0.5342 - val_accuracy: 0.7662\n",
      "Epoch 26/100\n",
      "20/20 [==============================] - 0s 6ms/step - loss: 0.2892 - accuracy: 0.8811 - val_loss: 0.5627 - val_accuracy: 0.7662\n",
      "Epoch 27/100\n",
      "20/20 [==============================] - 0s 6ms/step - loss: 0.2743 - accuracy: 0.8762 - val_loss: 0.5579 - val_accuracy: 0.7597\n",
      "Epoch 28/100\n",
      "20/20 [==============================] - 0s 6ms/step - loss: 0.2604 - accuracy: 0.8925 - val_loss: 0.5634 - val_accuracy: 0.7662\n",
      "Epoch 29/100\n",
      "20/20 [==============================] - 0s 6ms/step - loss: 0.2605 - accuracy: 0.8909 - val_loss: 0.5721 - val_accuracy: 0.7532\n",
      "Epoch 30/100\n",
      "20/20 [==============================] - 0s 6ms/step - loss: 0.2505 - accuracy: 0.8925 - val_loss: 0.5983 - val_accuracy: 0.7597\n",
      "Epoch 31/100\n",
      "20/20 [==============================] - 0s 6ms/step - loss: 0.2476 - accuracy: 0.8909 - val_loss: 0.5956 - val_accuracy: 0.7662\n",
      "Epoch 32/100\n",
      "20/20 [==============================] - 0s 6ms/step - loss: 0.2347 - accuracy: 0.8990 - val_loss: 0.6335 - val_accuracy: 0.7532\n",
      "Epoch 33/100\n",
      "20/20 [==============================] - 0s 6ms/step - loss: 0.2268 - accuracy: 0.8941 - val_loss: 0.6169 - val_accuracy: 0.7662\n",
      "Epoch 34/100\n",
      "20/20 [==============================] - 0s 6ms/step - loss: 0.2333 - accuracy: 0.8974 - val_loss: 0.6766 - val_accuracy: 0.7338\n",
      "Epoch 35/100\n",
      "20/20 [==============================] - 0s 6ms/step - loss: 0.2230 - accuracy: 0.8844 - val_loss: 0.6399 - val_accuracy: 0.7597\n",
      "Epoch 36/100\n",
      "20/20 [==============================] - 0s 6ms/step - loss: 0.1962 - accuracy: 0.9169 - val_loss: 0.6792 - val_accuracy: 0.7662\n",
      "Epoch 37/100\n",
      "20/20 [==============================] - 0s 6ms/step - loss: 0.1773 - accuracy: 0.9267 - val_loss: 0.6921 - val_accuracy: 0.7468\n",
      "Epoch 38/100\n",
      "20/20 [==============================] - 0s 5ms/step - loss: 0.1568 - accuracy: 0.9430 - val_loss: 0.7336 - val_accuracy: 0.7338\n",
      "Epoch 39/100\n",
      "20/20 [==============================] - 0s 6ms/step - loss: 0.1598 - accuracy: 0.9365 - val_loss: 0.7300 - val_accuracy: 0.7403\n",
      "Epoch 40/100\n",
      "20/20 [==============================] - 0s 6ms/step - loss: 0.1351 - accuracy: 0.9528 - val_loss: 0.7475 - val_accuracy: 0.7338\n",
      "Epoch 41/100\n",
      "20/20 [==============================] - 0s 6ms/step - loss: 0.1307 - accuracy: 0.9511 - val_loss: 0.7856 - val_accuracy: 0.7403\n",
      "Epoch 42/100\n",
      "20/20 [==============================] - 0s 6ms/step - loss: 0.1344 - accuracy: 0.9414 - val_loss: 0.8747 - val_accuracy: 0.7468\n",
      "Epoch 43/100\n",
      "20/20 [==============================] - 0s 6ms/step - loss: 0.1210 - accuracy: 0.9560 - val_loss: 0.8806 - val_accuracy: 0.7208\n",
      "Epoch 44/100\n",
      "20/20 [==============================] - 0s 6ms/step - loss: 0.1055 - accuracy: 0.9691 - val_loss: 0.9090 - val_accuracy: 0.7273\n",
      "Epoch 45/100\n",
      "20/20 [==============================] - 0s 6ms/step - loss: 0.1060 - accuracy: 0.9674 - val_loss: 0.9080 - val_accuracy: 0.7468\n",
      "Epoch 46/100\n",
      "20/20 [==============================] - 0s 6ms/step - loss: 0.1020 - accuracy: 0.9691 - val_loss: 0.9454 - val_accuracy: 0.7403\n",
      "Epoch 47/100\n",
      "20/20 [==============================] - 0s 6ms/step - loss: 0.0821 - accuracy: 0.9739 - val_loss: 1.0464 - val_accuracy: 0.7403\n",
      "Epoch 48/100\n",
      "20/20 [==============================] - 0s 6ms/step - loss: 0.0783 - accuracy: 0.9723 - val_loss: 0.9823 - val_accuracy: 0.7468\n",
      "Epoch 49/100\n",
      "20/20 [==============================] - 0s 5ms/step - loss: 0.0693 - accuracy: 0.9739 - val_loss: 1.0220 - val_accuracy: 0.7338\n",
      "Epoch 50/100\n",
      "20/20 [==============================] - 0s 5ms/step - loss: 0.0880 - accuracy: 0.9821 - val_loss: 1.0181 - val_accuracy: 0.7273\n",
      "Epoch 51/100\n",
      "20/20 [==============================] - 0s 5ms/step - loss: 0.0685 - accuracy: 0.9821 - val_loss: 1.1973 - val_accuracy: 0.7273\n",
      "Epoch 52/100\n",
      "20/20 [==============================] - 0s 5ms/step - loss: 0.0580 - accuracy: 0.9805 - val_loss: 1.1377 - val_accuracy: 0.7468\n",
      "Epoch 53/100\n",
      "20/20 [==============================] - 0s 6ms/step - loss: 0.0486 - accuracy: 0.9902 - val_loss: 1.1555 - val_accuracy: 0.7273\n",
      "Epoch 54/100\n",
      "20/20 [==============================] - 0s 6ms/step - loss: 0.0829 - accuracy: 0.9772 - val_loss: 1.2037 - val_accuracy: 0.7078\n",
      "Epoch 55/100\n",
      "20/20 [==============================] - 0s 6ms/step - loss: 0.0698 - accuracy: 0.9788 - val_loss: 1.1631 - val_accuracy: 0.6948\n",
      "Epoch 56/100\n",
      "20/20 [==============================] - 0s 5ms/step - loss: 0.0764 - accuracy: 0.9691 - val_loss: 1.3340 - val_accuracy: 0.7208\n",
      "Epoch 57/100\n",
      "20/20 [==============================] - 0s 6ms/step - loss: 0.0810 - accuracy: 0.9625 - val_loss: 1.2144 - val_accuracy: 0.7143\n",
      "Epoch 58/100\n",
      "20/20 [==============================] - 0s 6ms/step - loss: 0.0634 - accuracy: 0.9805 - val_loss: 1.3188 - val_accuracy: 0.7338\n",
      "Epoch 59/100\n",
      "20/20 [==============================] - 0s 5ms/step - loss: 0.0515 - accuracy: 0.9853 - val_loss: 1.2352 - val_accuracy: 0.7143\n",
      "Epoch 60/100\n",
      "20/20 [==============================] - 0s 6ms/step - loss: 0.0311 - accuracy: 0.9935 - val_loss: 1.2801 - val_accuracy: 0.7143\n",
      "Epoch 61/100\n",
      "20/20 [==============================] - 0s 6ms/step - loss: 0.0313 - accuracy: 0.9919 - val_loss: 1.2658 - val_accuracy: 0.7208\n",
      "Epoch 62/100\n",
      "20/20 [==============================] - 0s 6ms/step - loss: 0.0245 - accuracy: 0.9967 - val_loss: 1.3153 - val_accuracy: 0.7273\n",
      "Epoch 63/100\n",
      "20/20 [==============================] - 0s 6ms/step - loss: 0.0255 - accuracy: 0.9919 - val_loss: 1.3501 - val_accuracy: 0.7208\n",
      "Epoch 64/100\n",
      "20/20 [==============================] - 0s 5ms/step - loss: 0.0244 - accuracy: 0.9951 - val_loss: 1.3950 - val_accuracy: 0.7338\n",
      "Epoch 65/100\n",
      "20/20 [==============================] - 0s 6ms/step - loss: 0.0190 - accuracy: 0.9967 - val_loss: 1.4258 - val_accuracy: 0.7208\n",
      "Epoch 66/100\n",
      "20/20 [==============================] - 0s 6ms/step - loss: 0.0155 - accuracy: 0.9984 - val_loss: 1.4458 - val_accuracy: 0.7208\n",
      "Epoch 67/100\n",
      "20/20 [==============================] - 0s 8ms/step - loss: 0.0136 - accuracy: 0.9984 - val_loss: 1.4682 - val_accuracy: 0.7338\n",
      "Epoch 68/100\n",
      "20/20 [==============================] - 0s 6ms/step - loss: 0.0126 - accuracy: 0.9967 - val_loss: 1.4807 - val_accuracy: 0.7338\n",
      "Epoch 69/100\n",
      "20/20 [==============================] - 0s 6ms/step - loss: 0.0092 - accuracy: 1.0000 - val_loss: 1.5001 - val_accuracy: 0.7273\n",
      "Epoch 70/100\n",
      "20/20 [==============================] - 0s 11ms/step - loss: 0.0089 - accuracy: 1.0000 - val_loss: 1.5365 - val_accuracy: 0.7273\n",
      "Epoch 71/100\n",
      "20/20 [==============================] - 0s 13ms/step - loss: 0.0090 - accuracy: 0.9984 - val_loss: 1.5473 - val_accuracy: 0.7078\n",
      "Epoch 72/100\n",
      "20/20 [==============================] - 0s 13ms/step - loss: 0.0101 - accuracy: 0.9984 - val_loss: 1.5663 - val_accuracy: 0.7208\n",
      "Epoch 73/100\n",
      "20/20 [==============================] - 0s 10ms/step - loss: 0.0084 - accuracy: 0.9984 - val_loss: 1.6034 - val_accuracy: 0.7143\n",
      "Epoch 74/100\n",
      "20/20 [==============================] - 0s 9ms/step - loss: 0.0091 - accuracy: 1.0000 - val_loss: 1.5925 - val_accuracy: 0.7273\n",
      "Epoch 75/100\n",
      "20/20 [==============================] - 0s 6ms/step - loss: 0.0061 - accuracy: 1.0000 - val_loss: 1.6340 - val_accuracy: 0.7208\n",
      "Epoch 76/100\n",
      "20/20 [==============================] - 0s 6ms/step - loss: 0.0068 - accuracy: 1.0000 - val_loss: 1.6461 - val_accuracy: 0.7143\n",
      "Epoch 77/100\n",
      "20/20 [==============================] - 0s 6ms/step - loss: 0.0064 - accuracy: 1.0000 - val_loss: 1.6707 - val_accuracy: 0.7273\n",
      "Epoch 78/100\n",
      "20/20 [==============================] - 0s 6ms/step - loss: 0.0047 - accuracy: 1.0000 - val_loss: 1.6988 - val_accuracy: 0.7208\n",
      "Epoch 79/100\n",
      "20/20 [==============================] - 0s 6ms/step - loss: 0.0049 - accuracy: 1.0000 - val_loss: 1.6982 - val_accuracy: 0.7143\n",
      "Epoch 80/100\n",
      "20/20 [==============================] - 0s 5ms/step - loss: 0.0047 - accuracy: 1.0000 - val_loss: 1.7425 - val_accuracy: 0.7273\n",
      "Epoch 81/100\n",
      "20/20 [==============================] - 0s 6ms/step - loss: 0.0039 - accuracy: 1.0000 - val_loss: 1.7506 - val_accuracy: 0.7208\n",
      "Epoch 82/100\n",
      "20/20 [==============================] - 0s 5ms/step - loss: 0.0043 - accuracy: 1.0000 - val_loss: 1.7564 - val_accuracy: 0.7078\n",
      "Epoch 83/100\n",
      "20/20 [==============================] - 0s 6ms/step - loss: 0.0077 - accuracy: 0.9967 - val_loss: 1.7961 - val_accuracy: 0.7143\n",
      "Epoch 84/100\n",
      "20/20 [==============================] - 0s 6ms/step - loss: 0.0064 - accuracy: 0.9984 - val_loss: 1.8006 - val_accuracy: 0.7273\n",
      "Epoch 85/100\n",
      "20/20 [==============================] - 0s 5ms/step - loss: 0.0059 - accuracy: 1.0000 - val_loss: 1.8084 - val_accuracy: 0.7078\n",
      "Epoch 86/100\n",
      "20/20 [==============================] - 0s 5ms/step - loss: 0.0055 - accuracy: 1.0000 - val_loss: 1.8074 - val_accuracy: 0.7273\n",
      "Epoch 87/100\n",
      "20/20 [==============================] - 0s 5ms/step - loss: 0.0040 - accuracy: 1.0000 - val_loss: 1.8293 - val_accuracy: 0.7273\n",
      "Epoch 88/100\n",
      "20/20 [==============================] - 0s 6ms/step - loss: 0.0032 - accuracy: 1.0000 - val_loss: 1.8340 - val_accuracy: 0.7078\n",
      "Epoch 89/100\n",
      "20/20 [==============================] - 0s 5ms/step - loss: 0.0037 - accuracy: 1.0000 - val_loss: 1.8955 - val_accuracy: 0.7273\n",
      "Epoch 90/100\n",
      "20/20 [==============================] - 0s 6ms/step - loss: 0.0036 - accuracy: 1.0000 - val_loss: 1.8894 - val_accuracy: 0.7143\n",
      "Epoch 91/100\n",
      "20/20 [==============================] - 0s 5ms/step - loss: 0.0032 - accuracy: 1.0000 - val_loss: 1.9061 - val_accuracy: 0.7208\n",
      "Epoch 92/100\n",
      "20/20 [==============================] - 0s 6ms/step - loss: 0.0023 - accuracy: 1.0000 - val_loss: 1.9189 - val_accuracy: 0.7338\n",
      "Epoch 93/100\n",
      "20/20 [==============================] - 0s 6ms/step - loss: 0.0043 - accuracy: 0.9984 - val_loss: 1.9824 - val_accuracy: 0.7208\n",
      "Epoch 94/100\n",
      "20/20 [==============================] - 0s 6ms/step - loss: 0.0064 - accuracy: 0.9984 - val_loss: 1.9501 - val_accuracy: 0.7143\n",
      "Epoch 95/100\n",
      "20/20 [==============================] - 0s 6ms/step - loss: 0.0029 - accuracy: 1.0000 - val_loss: 1.9170 - val_accuracy: 0.7273\n",
      "Epoch 96/100\n",
      "20/20 [==============================] - 0s 6ms/step - loss: 0.0022 - accuracy: 1.0000 - val_loss: 2.0028 - val_accuracy: 0.7273\n",
      "Epoch 97/100\n",
      "20/20 [==============================] - 0s 6ms/step - loss: 0.0020 - accuracy: 1.0000 - val_loss: 1.9546 - val_accuracy: 0.7208\n",
      "Epoch 98/100\n",
      "20/20 [==============================] - 0s 6ms/step - loss: 0.0019 - accuracy: 1.0000 - val_loss: 2.0443 - val_accuracy: 0.7208\n",
      "Epoch 99/100\n",
      "20/20 [==============================] - 0s 6ms/step - loss: 0.0019 - accuracy: 1.0000 - val_loss: 1.9895 - val_accuracy: 0.7143\n",
      "Epoch 100/100\n",
      "20/20 [==============================] - 0s 6ms/step - loss: 0.0021 - accuracy: 1.0000 - val_loss: 2.0157 - val_accuracy: 0.7208\n"
     ]
    },
    {
     "data": {
      "text/plain": [
       "<keras.callbacks.History at 0x7f11190e79d0>"
      ]
     },
     "execution_count": 33,
     "metadata": {},
     "output_type": "execute_result"
    }
   ],
   "source": [
    "best_model.fit(x_train, y_train, initial_epoch=6, epochs=100, validation_data=(x_test, y_test))"
   ]
  },
  {
   "cell_type": "code",
   "execution_count": 34,
   "id": "c033b740",
   "metadata": {
    "execution": {
     "iopub.execute_input": "2023-02-24T12:51:12.490339Z",
     "iopub.status.busy": "2023-02-24T12:51:12.489138Z",
     "iopub.status.idle": "2023-02-24T12:51:12.500548Z",
     "shell.execute_reply": "2023-02-24T12:51:12.499575Z"
    },
    "papermill": {
     "duration": 0.080316,
     "end_time": "2023-02-24T12:51:12.503065",
     "exception": false,
     "start_time": "2023-02-24T12:51:12.422749",
     "status": "completed"
    },
    "tags": []
   },
   "outputs": [],
   "source": [
    "#\n",
    "def build_model(hp):\n",
    "    model = Sequential()\n",
    "    counter = 0\n",
    "    for i in range(hp.Int('num_layers', min_value = 1, max_value = 10)):\n",
    "        if counter  == 0:\n",
    "            model.add(\n",
    "                Dense(\n",
    "                    hp.Int('units' + str(i), min_value = 8, max_value = 128, step = 8),\n",
    "                    activation = hp.Choice('activation' + str(i), values=['tanh', 'relu', 'sigmoid']),\n",
    "                    input_dim = 8\n",
    "                    )\n",
    "                )\n",
    "            model.add(Dropout(hp.Choice('dropout' + str(i), values = [0.1,0.2,0.3,0.4,0.5,0.6,0.7,0.8,0.9])))\n",
    "        else:\n",
    "            model.add(\n",
    "                Dense(\n",
    "                    hp.Int('units' + str(i), min_value = 8, max_value = 128, step = 8),\n",
    "                    activation = hp.Choice('activation' + str(i), values=['tanh', 'relu', 'sigmoid'])\n",
    "                    )\n",
    "                )\n",
    "            model.add(Dropout(hp.Choice('dropout' + str(i), values = [0.1,0.2,0.3,0.4,0.5,0.6,0.7,0.8,0.9])))\n",
    "        counter += 1\n",
    "    model.add(Dense(1, activation= 'sigmoid'))\n",
    "    \n",
    "    model.compile(optimizer= hp.Choice('optimizer' + str(i), values=['adam', 'rmsprop', 'sgd', 'nadam', 'adadelta']),\n",
    "                  loss = 'binary_crossentropy',\n",
    "                  metrics = ['accuracy']\n",
    "                 )\n",
    "    \n",
    "    return model"
   ]
  },
  {
   "cell_type": "code",
   "execution_count": 35,
   "id": "129d433f",
   "metadata": {
    "execution": {
     "iopub.execute_input": "2023-02-24T12:51:12.637460Z",
     "iopub.status.busy": "2023-02-24T12:51:12.636093Z",
     "iopub.status.idle": "2023-02-24T12:51:12.674633Z",
     "shell.execute_reply": "2023-02-24T12:51:12.673573Z"
    },
    "papermill": {
     "duration": 0.107715,
     "end_time": "2023-02-24T12:51:12.677322",
     "exception": false,
     "start_time": "2023-02-24T12:51:12.569607",
     "status": "completed"
    },
    "tags": []
   },
   "outputs": [],
   "source": [
    "tuner = kt.RandomSearch(build_model,\n",
    "                       objective = 'val_accuracy',\n",
    "                       max_trials = 10,\n",
    "                       directory='mydir',\n",
    "                       project_name = 'all_pram',\n",
    "                       overwrite = 'True', \n",
    "                        )"
   ]
  },
  {
   "cell_type": "code",
   "execution_count": 36,
   "id": "f0049e99",
   "metadata": {
    "execution": {
     "iopub.execute_input": "2023-02-24T12:51:12.812337Z",
     "iopub.status.busy": "2023-02-24T12:51:12.811152Z",
     "iopub.status.idle": "2023-02-24T12:51:36.514227Z",
     "shell.execute_reply": "2023-02-24T12:51:36.512799Z"
    },
    "papermill": {
     "duration": 23.773143,
     "end_time": "2023-02-24T12:51:36.517103",
     "exception": false,
     "start_time": "2023-02-24T12:51:12.743960",
     "status": "completed"
    },
    "tags": []
   },
   "outputs": [
    {
     "name": "stdout",
     "output_type": "stream",
     "text": [
      "Trial 10 Complete [00h 00m 01s]\n",
      "val_accuracy: 0.7857142686843872\n",
      "\n",
      "Best val_accuracy So Far: 0.7857142686843872\n",
      "Total elapsed time: 00h 00m 23s\n",
      "CPU times: user 23.7 s, sys: 1.11 s, total: 24.8 s\n",
      "Wall time: 23.7 s\n"
     ]
    }
   ],
   "source": [
    "%%time\n",
    "tuner.search(x_train, y_train, epochs = 5, validation_data = (x_test, y_test))"
   ]
  },
  {
   "cell_type": "code",
   "execution_count": 37,
   "id": "c975b303",
   "metadata": {
    "execution": {
     "iopub.execute_input": "2023-02-24T12:51:36.651715Z",
     "iopub.status.busy": "2023-02-24T12:51:36.650326Z",
     "iopub.status.idle": "2023-02-24T12:51:36.659766Z",
     "shell.execute_reply": "2023-02-24T12:51:36.658856Z"
    },
    "papermill": {
     "duration": 0.077659,
     "end_time": "2023-02-24T12:51:36.662039",
     "exception": false,
     "start_time": "2023-02-24T12:51:36.584380",
     "status": "completed"
    },
    "tags": []
   },
   "outputs": [
    {
     "data": {
      "text/plain": [
       "{'num_layers': 2,\n",
       " 'units0': 40,\n",
       " 'activation0': 'tanh',\n",
       " 'dropout0': 0.6,\n",
       " 'optimizer0': 'adadelta',\n",
       " 'units1': 88,\n",
       " 'activation1': 'tanh',\n",
       " 'dropout1': 0.4,\n",
       " 'units2': 112,\n",
       " 'activation2': 'sigmoid',\n",
       " 'dropout2': 0.9,\n",
       " 'units3': 96,\n",
       " 'activation3': 'relu',\n",
       " 'dropout3': 0.6,\n",
       " 'units4': 96,\n",
       " 'activation4': 'tanh',\n",
       " 'dropout4': 0.2,\n",
       " 'units5': 32,\n",
       " 'activation5': 'relu',\n",
       " 'dropout5': 0.7,\n",
       " 'units6': 32,\n",
       " 'activation6': 'sigmoid',\n",
       " 'dropout6': 0.8,\n",
       " 'units7': 24,\n",
       " 'activation7': 'sigmoid',\n",
       " 'dropout7': 0.3,\n",
       " 'units8': 104,\n",
       " 'activation8': 'tanh',\n",
       " 'dropout8': 0.1,\n",
       " 'optimizer8': 'adadelta',\n",
       " 'optimizer7': 'rmsprop',\n",
       " 'optimizer5': 'sgd',\n",
       " 'optimizer4': 'rmsprop',\n",
       " 'optimizer1': 'adam'}"
      ]
     },
     "execution_count": 37,
     "metadata": {},
     "output_type": "execute_result"
    }
   ],
   "source": [
    "tuner.get_best_hyperparameters()[0].values"
   ]
  },
  {
   "cell_type": "code",
   "execution_count": 38,
   "id": "bf655998",
   "metadata": {
    "execution": {
     "iopub.execute_input": "2023-02-24T12:51:36.792774Z",
     "iopub.status.busy": "2023-02-24T12:51:36.792361Z",
     "iopub.status.idle": "2023-02-24T12:51:37.086775Z",
     "shell.execute_reply": "2023-02-24T12:51:37.085451Z"
    },
    "papermill": {
     "duration": 0.363057,
     "end_time": "2023-02-24T12:51:37.089655",
     "exception": false,
     "start_time": "2023-02-24T12:51:36.726598",
     "status": "completed"
    },
    "tags": []
   },
   "outputs": [],
   "source": [
    "best_model = tuner.get_best_models()[0]"
   ]
  },
  {
   "cell_type": "code",
   "execution_count": 39,
   "id": "881c064d",
   "metadata": {
    "execution": {
     "iopub.execute_input": "2023-02-24T12:51:37.222542Z",
     "iopub.status.busy": "2023-02-24T12:51:37.222076Z",
     "iopub.status.idle": "2023-02-24T12:51:48.348914Z",
     "shell.execute_reply": "2023-02-24T12:51:48.347047Z"
    },
    "papermill": {
     "duration": 11.196396,
     "end_time": "2023-02-24T12:51:48.352068",
     "exception": false,
     "start_time": "2023-02-24T12:51:37.155672",
     "status": "completed"
    },
    "tags": []
   },
   "outputs": [
    {
     "name": "stdout",
     "output_type": "stream",
     "text": [
      "Epoch 6/100\n",
      "20/20 [==============================] - 1s 14ms/step - loss: 0.5184 - accuracy: 0.7182 - val_loss: 0.4837 - val_accuracy: 0.7727\n",
      "Epoch 7/100\n",
      "20/20 [==============================] - 0s 5ms/step - loss: 0.5251 - accuracy: 0.7296 - val_loss: 0.4863 - val_accuracy: 0.7792\n",
      "Epoch 8/100\n",
      "20/20 [==============================] - 0s 5ms/step - loss: 0.5085 - accuracy: 0.7541 - val_loss: 0.4892 - val_accuracy: 0.7857\n",
      "Epoch 9/100\n",
      "20/20 [==============================] - 0s 6ms/step - loss: 0.5331 - accuracy: 0.7280 - val_loss: 0.4890 - val_accuracy: 0.7727\n",
      "Epoch 10/100\n",
      "20/20 [==============================] - 0s 5ms/step - loss: 0.5015 - accuracy: 0.7492 - val_loss: 0.4918 - val_accuracy: 0.7857\n",
      "Epoch 11/100\n",
      "20/20 [==============================] - 0s 5ms/step - loss: 0.4953 - accuracy: 0.7573 - val_loss: 0.4918 - val_accuracy: 0.7792\n",
      "Epoch 12/100\n",
      "20/20 [==============================] - 0s 5ms/step - loss: 0.4863 - accuracy: 0.7801 - val_loss: 0.4895 - val_accuracy: 0.7727\n",
      "Epoch 13/100\n",
      "20/20 [==============================] - 0s 5ms/step - loss: 0.5320 - accuracy: 0.7296 - val_loss: 0.4932 - val_accuracy: 0.7792\n",
      "Epoch 14/100\n",
      "20/20 [==============================] - 0s 5ms/step - loss: 0.5019 - accuracy: 0.7427 - val_loss: 0.4934 - val_accuracy: 0.7857\n",
      "Epoch 15/100\n",
      "20/20 [==============================] - 0s 5ms/step - loss: 0.5014 - accuracy: 0.7736 - val_loss: 0.4919 - val_accuracy: 0.7857\n",
      "Epoch 16/100\n",
      "20/20 [==============================] - 0s 5ms/step - loss: 0.4962 - accuracy: 0.7638 - val_loss: 0.4907 - val_accuracy: 0.7792\n",
      "Epoch 17/100\n",
      "20/20 [==============================] - 0s 5ms/step - loss: 0.4779 - accuracy: 0.7883 - val_loss: 0.4923 - val_accuracy: 0.7792\n",
      "Epoch 18/100\n",
      "20/20 [==============================] - 0s 5ms/step - loss: 0.4834 - accuracy: 0.7590 - val_loss: 0.4934 - val_accuracy: 0.7857\n",
      "Epoch 19/100\n",
      "20/20 [==============================] - 0s 5ms/step - loss: 0.5055 - accuracy: 0.7410 - val_loss: 0.4915 - val_accuracy: 0.7727\n",
      "Epoch 20/100\n",
      "20/20 [==============================] - 0s 5ms/step - loss: 0.5042 - accuracy: 0.7362 - val_loss: 0.4913 - val_accuracy: 0.7597\n",
      "Epoch 21/100\n",
      "20/20 [==============================] - 0s 4ms/step - loss: 0.4940 - accuracy: 0.7720 - val_loss: 0.4906 - val_accuracy: 0.7597\n",
      "Epoch 22/100\n",
      "20/20 [==============================] - 0s 5ms/step - loss: 0.5069 - accuracy: 0.7541 - val_loss: 0.4903 - val_accuracy: 0.7662\n",
      "Epoch 23/100\n",
      "20/20 [==============================] - 0s 15ms/step - loss: 0.4851 - accuracy: 0.7785 - val_loss: 0.4903 - val_accuracy: 0.7727\n",
      "Epoch 24/100\n",
      "20/20 [==============================] - 0s 8ms/step - loss: 0.4950 - accuracy: 0.7590 - val_loss: 0.4911 - val_accuracy: 0.7662\n",
      "Epoch 25/100\n",
      "20/20 [==============================] - 0s 12ms/step - loss: 0.4981 - accuracy: 0.7524 - val_loss: 0.4916 - val_accuracy: 0.7597\n",
      "Epoch 26/100\n",
      "20/20 [==============================] - 0s 12ms/step - loss: 0.4978 - accuracy: 0.7541 - val_loss: 0.4919 - val_accuracy: 0.7662\n",
      "Epoch 27/100\n",
      "20/20 [==============================] - 0s 8ms/step - loss: 0.4960 - accuracy: 0.7541 - val_loss: 0.4939 - val_accuracy: 0.7662\n",
      "Epoch 28/100\n",
      "20/20 [==============================] - 0s 7ms/step - loss: 0.4826 - accuracy: 0.7736 - val_loss: 0.4938 - val_accuracy: 0.7727\n",
      "Epoch 29/100\n",
      "20/20 [==============================] - 0s 5ms/step - loss: 0.4940 - accuracy: 0.7622 - val_loss: 0.4909 - val_accuracy: 0.7792\n",
      "Epoch 30/100\n",
      "20/20 [==============================] - 0s 5ms/step - loss: 0.4849 - accuracy: 0.7720 - val_loss: 0.4943 - val_accuracy: 0.7857\n",
      "Epoch 31/100\n",
      "20/20 [==============================] - 0s 5ms/step - loss: 0.5041 - accuracy: 0.7573 - val_loss: 0.4967 - val_accuracy: 0.7857\n",
      "Epoch 32/100\n",
      "20/20 [==============================] - 0s 4ms/step - loss: 0.4956 - accuracy: 0.7671 - val_loss: 0.4960 - val_accuracy: 0.7792\n",
      "Epoch 33/100\n",
      "20/20 [==============================] - 0s 5ms/step - loss: 0.4899 - accuracy: 0.7606 - val_loss: 0.4951 - val_accuracy: 0.7792\n",
      "Epoch 34/100\n",
      "20/20 [==============================] - 0s 5ms/step - loss: 0.4885 - accuracy: 0.7720 - val_loss: 0.4957 - val_accuracy: 0.7922\n",
      "Epoch 35/100\n",
      "20/20 [==============================] - 0s 5ms/step - loss: 0.4876 - accuracy: 0.7720 - val_loss: 0.4950 - val_accuracy: 0.7792\n",
      "Epoch 36/100\n",
      "20/20 [==============================] - 0s 5ms/step - loss: 0.5059 - accuracy: 0.7410 - val_loss: 0.4933 - val_accuracy: 0.7857\n",
      "Epoch 37/100\n",
      "20/20 [==============================] - 0s 5ms/step - loss: 0.5000 - accuracy: 0.7606 - val_loss: 0.4930 - val_accuracy: 0.7857\n",
      "Epoch 38/100\n",
      "20/20 [==============================] - 0s 5ms/step - loss: 0.4974 - accuracy: 0.7606 - val_loss: 0.4941 - val_accuracy: 0.7792\n",
      "Epoch 39/100\n",
      "20/20 [==============================] - 0s 5ms/step - loss: 0.4864 - accuracy: 0.7557 - val_loss: 0.4932 - val_accuracy: 0.7727\n",
      "Epoch 40/100\n",
      "20/20 [==============================] - 0s 5ms/step - loss: 0.4679 - accuracy: 0.7736 - val_loss: 0.4920 - val_accuracy: 0.7662\n",
      "Epoch 41/100\n",
      "20/20 [==============================] - 0s 5ms/step - loss: 0.4936 - accuracy: 0.7459 - val_loss: 0.4915 - val_accuracy: 0.7727\n",
      "Epoch 42/100\n",
      "20/20 [==============================] - 0s 5ms/step - loss: 0.4733 - accuracy: 0.7752 - val_loss: 0.4943 - val_accuracy: 0.7727\n",
      "Epoch 43/100\n",
      "20/20 [==============================] - 0s 5ms/step - loss: 0.4794 - accuracy: 0.7736 - val_loss: 0.4946 - val_accuracy: 0.7922\n",
      "Epoch 44/100\n",
      "20/20 [==============================] - 0s 5ms/step - loss: 0.4798 - accuracy: 0.7915 - val_loss: 0.4954 - val_accuracy: 0.7727\n",
      "Epoch 45/100\n",
      "20/20 [==============================] - 0s 5ms/step - loss: 0.4874 - accuracy: 0.7752 - val_loss: 0.4946 - val_accuracy: 0.7792\n",
      "Epoch 46/100\n",
      "20/20 [==============================] - 0s 5ms/step - loss: 0.4881 - accuracy: 0.7573 - val_loss: 0.4940 - val_accuracy: 0.7727\n",
      "Epoch 47/100\n",
      "20/20 [==============================] - 0s 5ms/step - loss: 0.4640 - accuracy: 0.7883 - val_loss: 0.4955 - val_accuracy: 0.7727\n",
      "Epoch 48/100\n",
      "20/20 [==============================] - 0s 5ms/step - loss: 0.4932 - accuracy: 0.7704 - val_loss: 0.4957 - val_accuracy: 0.7792\n",
      "Epoch 49/100\n",
      "20/20 [==============================] - 0s 5ms/step - loss: 0.4765 - accuracy: 0.7850 - val_loss: 0.4938 - val_accuracy: 0.7792\n",
      "Epoch 50/100\n",
      "20/20 [==============================] - 0s 5ms/step - loss: 0.4757 - accuracy: 0.7704 - val_loss: 0.4946 - val_accuracy: 0.7857\n",
      "Epoch 51/100\n",
      "20/20 [==============================] - 0s 5ms/step - loss: 0.4994 - accuracy: 0.7687 - val_loss: 0.4932 - val_accuracy: 0.7792\n",
      "Epoch 52/100\n",
      "20/20 [==============================] - 0s 5ms/step - loss: 0.4695 - accuracy: 0.7638 - val_loss: 0.4947 - val_accuracy: 0.7727\n",
      "Epoch 53/100\n",
      "20/20 [==============================] - 0s 5ms/step - loss: 0.4817 - accuracy: 0.7573 - val_loss: 0.4939 - val_accuracy: 0.7662\n",
      "Epoch 54/100\n",
      "20/20 [==============================] - 0s 5ms/step - loss: 0.4821 - accuracy: 0.7687 - val_loss: 0.4946 - val_accuracy: 0.7857\n",
      "Epoch 55/100\n",
      "20/20 [==============================] - 0s 5ms/step - loss: 0.4940 - accuracy: 0.7606 - val_loss: 0.4936 - val_accuracy: 0.7662\n",
      "Epoch 56/100\n",
      "20/20 [==============================] - 0s 4ms/step - loss: 0.4730 - accuracy: 0.7622 - val_loss: 0.4939 - val_accuracy: 0.7857\n",
      "Epoch 57/100\n",
      "20/20 [==============================] - 0s 5ms/step - loss: 0.4801 - accuracy: 0.7638 - val_loss: 0.4927 - val_accuracy: 0.7727\n",
      "Epoch 58/100\n",
      "20/20 [==============================] - 0s 5ms/step - loss: 0.4897 - accuracy: 0.7476 - val_loss: 0.4933 - val_accuracy: 0.7727\n",
      "Epoch 59/100\n",
      "20/20 [==============================] - 0s 6ms/step - loss: 0.4803 - accuracy: 0.7573 - val_loss: 0.4943 - val_accuracy: 0.7792\n",
      "Epoch 60/100\n",
      "20/20 [==============================] - 0s 6ms/step - loss: 0.4821 - accuracy: 0.7655 - val_loss: 0.4943 - val_accuracy: 0.7727\n",
      "Epoch 61/100\n",
      "20/20 [==============================] - 0s 5ms/step - loss: 0.4852 - accuracy: 0.7704 - val_loss: 0.4967 - val_accuracy: 0.7792\n",
      "Epoch 62/100\n",
      "20/20 [==============================] - 0s 5ms/step - loss: 0.4902 - accuracy: 0.7752 - val_loss: 0.4970 - val_accuracy: 0.7792\n",
      "Epoch 63/100\n",
      "20/20 [==============================] - 0s 5ms/step - loss: 0.4719 - accuracy: 0.7671 - val_loss: 0.4976 - val_accuracy: 0.7792\n",
      "Epoch 64/100\n",
      "20/20 [==============================] - 0s 5ms/step - loss: 0.4768 - accuracy: 0.7638 - val_loss: 0.4961 - val_accuracy: 0.7792\n",
      "Epoch 65/100\n",
      "20/20 [==============================] - 0s 5ms/step - loss: 0.4689 - accuracy: 0.7785 - val_loss: 0.4966 - val_accuracy: 0.7857\n",
      "Epoch 66/100\n",
      "20/20 [==============================] - 0s 5ms/step - loss: 0.4699 - accuracy: 0.7704 - val_loss: 0.4957 - val_accuracy: 0.7792\n",
      "Epoch 67/100\n",
      "20/20 [==============================] - 0s 5ms/step - loss: 0.4771 - accuracy: 0.7541 - val_loss: 0.4946 - val_accuracy: 0.7792\n",
      "Epoch 68/100\n",
      "20/20 [==============================] - 0s 5ms/step - loss: 0.4878 - accuracy: 0.7687 - val_loss: 0.4944 - val_accuracy: 0.7857\n",
      "Epoch 69/100\n",
      "20/20 [==============================] - 0s 5ms/step - loss: 0.4938 - accuracy: 0.7557 - val_loss: 0.4950 - val_accuracy: 0.7792\n",
      "Epoch 70/100\n",
      "20/20 [==============================] - 0s 5ms/step - loss: 0.4777 - accuracy: 0.7638 - val_loss: 0.4929 - val_accuracy: 0.7727\n",
      "Epoch 71/100\n",
      "20/20 [==============================] - 0s 5ms/step - loss: 0.4668 - accuracy: 0.7850 - val_loss: 0.4938 - val_accuracy: 0.7662\n",
      "Epoch 72/100\n",
      "20/20 [==============================] - 0s 5ms/step - loss: 0.4866 - accuracy: 0.7785 - val_loss: 0.4916 - val_accuracy: 0.7727\n",
      "Epoch 73/100\n",
      "20/20 [==============================] - 0s 5ms/step - loss: 0.4827 - accuracy: 0.7785 - val_loss: 0.4933 - val_accuracy: 0.7792\n",
      "Epoch 74/100\n",
      "20/20 [==============================] - 0s 5ms/step - loss: 0.4743 - accuracy: 0.7752 - val_loss: 0.4924 - val_accuracy: 0.7792\n",
      "Epoch 75/100\n",
      "20/20 [==============================] - 0s 5ms/step - loss: 0.4705 - accuracy: 0.7720 - val_loss: 0.4912 - val_accuracy: 0.7727\n",
      "Epoch 76/100\n",
      "20/20 [==============================] - 0s 5ms/step - loss: 0.4764 - accuracy: 0.7736 - val_loss: 0.4926 - val_accuracy: 0.7792\n",
      "Epoch 77/100\n",
      "20/20 [==============================] - 0s 5ms/step - loss: 0.4771 - accuracy: 0.7687 - val_loss: 0.4910 - val_accuracy: 0.7662\n",
      "Epoch 78/100\n",
      "20/20 [==============================] - 0s 5ms/step - loss: 0.4681 - accuracy: 0.7704 - val_loss: 0.4938 - val_accuracy: 0.7792\n",
      "Epoch 79/100\n",
      "20/20 [==============================] - 0s 5ms/step - loss: 0.4730 - accuracy: 0.7801 - val_loss: 0.4945 - val_accuracy: 0.7662\n",
      "Epoch 80/100\n",
      "20/20 [==============================] - 0s 5ms/step - loss: 0.4658 - accuracy: 0.7801 - val_loss: 0.4959 - val_accuracy: 0.7662\n",
      "Epoch 81/100\n",
      "20/20 [==============================] - 0s 6ms/step - loss: 0.4626 - accuracy: 0.7850 - val_loss: 0.4945 - val_accuracy: 0.7727\n",
      "Epoch 82/100\n",
      "20/20 [==============================] - 0s 5ms/step - loss: 0.4756 - accuracy: 0.7769 - val_loss: 0.4931 - val_accuracy: 0.7662\n",
      "Epoch 83/100\n",
      "20/20 [==============================] - 0s 5ms/step - loss: 0.4660 - accuracy: 0.7785 - val_loss: 0.4935 - val_accuracy: 0.7727\n",
      "Epoch 84/100\n",
      "20/20 [==============================] - 0s 5ms/step - loss: 0.4802 - accuracy: 0.7590 - val_loss: 0.4942 - val_accuracy: 0.7857\n",
      "Epoch 85/100\n",
      "20/20 [==============================] - 0s 5ms/step - loss: 0.4668 - accuracy: 0.7883 - val_loss: 0.4936 - val_accuracy: 0.7792\n",
      "Epoch 86/100\n",
      "20/20 [==============================] - 0s 5ms/step - loss: 0.4774 - accuracy: 0.7736 - val_loss: 0.4940 - val_accuracy: 0.7727\n",
      "Epoch 87/100\n",
      "20/20 [==============================] - 0s 5ms/step - loss: 0.4730 - accuracy: 0.7655 - val_loss: 0.4948 - val_accuracy: 0.7792\n",
      "Epoch 88/100\n",
      "20/20 [==============================] - 0s 5ms/step - loss: 0.4620 - accuracy: 0.7850 - val_loss: 0.4938 - val_accuracy: 0.7727\n",
      "Epoch 89/100\n",
      "20/20 [==============================] - 0s 5ms/step - loss: 0.4682 - accuracy: 0.7687 - val_loss: 0.4949 - val_accuracy: 0.7792\n",
      "Epoch 90/100\n",
      "20/20 [==============================] - 0s 5ms/step - loss: 0.4720 - accuracy: 0.7736 - val_loss: 0.4944 - val_accuracy: 0.7792\n",
      "Epoch 91/100\n",
      "20/20 [==============================] - 0s 5ms/step - loss: 0.4617 - accuracy: 0.7866 - val_loss: 0.4933 - val_accuracy: 0.7662\n",
      "Epoch 92/100\n",
      "20/20 [==============================] - 0s 5ms/step - loss: 0.4772 - accuracy: 0.7671 - val_loss: 0.4936 - val_accuracy: 0.7662\n",
      "Epoch 93/100\n",
      "20/20 [==============================] - 0s 5ms/step - loss: 0.4706 - accuracy: 0.7850 - val_loss: 0.4931 - val_accuracy: 0.7597\n",
      "Epoch 94/100\n",
      "20/20 [==============================] - 0s 5ms/step - loss: 0.4838 - accuracy: 0.7606 - val_loss: 0.4927 - val_accuracy: 0.7662\n",
      "Epoch 95/100\n",
      "20/20 [==============================] - 0s 5ms/step - loss: 0.4653 - accuracy: 0.7687 - val_loss: 0.4931 - val_accuracy: 0.7727\n",
      "Epoch 96/100\n",
      "20/20 [==============================] - 0s 5ms/step - loss: 0.4498 - accuracy: 0.7752 - val_loss: 0.4946 - val_accuracy: 0.7792\n",
      "Epoch 97/100\n",
      "20/20 [==============================] - 0s 5ms/step - loss: 0.4884 - accuracy: 0.7671 - val_loss: 0.4936 - val_accuracy: 0.7727\n",
      "Epoch 98/100\n",
      "20/20 [==============================] - 0s 5ms/step - loss: 0.4580 - accuracy: 0.7736 - val_loss: 0.4947 - val_accuracy: 0.7792\n",
      "Epoch 99/100\n",
      "20/20 [==============================] - 0s 5ms/step - loss: 0.4737 - accuracy: 0.7736 - val_loss: 0.4959 - val_accuracy: 0.7857\n",
      "Epoch 100/100\n",
      "20/20 [==============================] - 0s 5ms/step - loss: 0.4687 - accuracy: 0.7801 - val_loss: 0.4961 - val_accuracy: 0.7792\n"
     ]
    },
    {
     "data": {
      "text/plain": [
       "<keras.callbacks.History at 0x7f1119149b90>"
      ]
     },
     "execution_count": 39,
     "metadata": {},
     "output_type": "execute_result"
    }
   ],
   "source": [
    "best_model.fit(x_train, y_train, epochs = 100, initial_epoch=5, validation_data = (x_test, y_test))"
   ]
  },
  {
   "cell_type": "code",
   "execution_count": 40,
   "id": "2dad19f5",
   "metadata": {
    "execution": {
     "iopub.execute_input": "2023-02-24T12:51:48.519227Z",
     "iopub.status.busy": "2023-02-24T12:51:48.518160Z",
     "iopub.status.idle": "2023-02-24T12:51:48.525132Z",
     "shell.execute_reply": "2023-02-24T12:51:48.523835Z"
    },
    "papermill": {
     "duration": 0.094575,
     "end_time": "2023-02-24T12:51:48.528497",
     "exception": false,
     "start_time": "2023-02-24T12:51:48.433922",
     "status": "completed"
    },
    "tags": []
   },
   "outputs": [
    {
     "name": "stdout",
     "output_type": "stream",
     "text": [
      "Model: \"sequential\"\n",
      "_________________________________________________________________\n",
      "Layer (type)                 Output Shape              Param #   \n",
      "=================================================================\n",
      "dense (Dense)                (None, 40)                360       \n",
      "_________________________________________________________________\n",
      "dropout (Dropout)            (None, 40)                0         \n",
      "_________________________________________________________________\n",
      "dense_1 (Dense)              (None, 88)                3608      \n",
      "_________________________________________________________________\n",
      "dropout_1 (Dropout)          (None, 88)                0         \n",
      "_________________________________________________________________\n",
      "dense_2 (Dense)              (None, 1)                 89        \n",
      "=================================================================\n",
      "Total params: 4,057\n",
      "Trainable params: 4,057\n",
      "Non-trainable params: 0\n",
      "_________________________________________________________________\n"
     ]
    }
   ],
   "source": [
    "best_model.summary()"
   ]
  },
  {
   "cell_type": "code",
   "execution_count": null,
   "id": "1561e8b8",
   "metadata": {
    "papermill": {
     "duration": 0.080289,
     "end_time": "2023-02-24T12:51:48.691215",
     "exception": false,
     "start_time": "2023-02-24T12:51:48.610926",
     "status": "completed"
    },
    "tags": []
   },
   "outputs": [],
   "source": []
  }
 ],
 "metadata": {
  "kernelspec": {
   "display_name": "Python 3",
   "language": "python",
   "name": "python3"
  },
  "language_info": {
   "codemirror_mode": {
    "name": "ipython",
    "version": 3
   },
   "file_extension": ".py",
   "mimetype": "text/x-python",
   "name": "python",
   "nbconvert_exporter": "python",
   "pygments_lexer": "ipython3",
   "version": "3.7.12"
  },
  "papermill": {
   "default_parameters": {},
   "duration": 119.784729,
   "end_time": "2023-02-24T12:51:51.746386",
   "environment_variables": {},
   "exception": null,
   "input_path": "__notebook__.ipynb",
   "output_path": "__notebook__.ipynb",
   "parameters": {},
   "start_time": "2023-02-24T12:49:51.961657",
   "version": "2.3.4"
  }
 },
 "nbformat": 4,
 "nbformat_minor": 5
}
